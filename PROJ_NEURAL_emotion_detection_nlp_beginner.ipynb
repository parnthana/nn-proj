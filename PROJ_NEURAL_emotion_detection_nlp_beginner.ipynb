{
  "cells": [
    {
      "attachments": {},
      "cell_type": "markdown",
      "id": "bc0699b5",
      "metadata": {
        "_cell_guid": "b1076dfc-b9ad-4769-8c92-a6c4dae69d19",
        "_uuid": "8f2839f25d086af736a60e9eeb907d3b93b6e0e5",
        "id": "bc0699b5",
        "papermill": {
          "duration": 0.032294,
          "end_time": "2022-05-01T09:53:15.122027",
          "exception": false,
          "start_time": "2022-05-01T09:53:15.089733",
          "status": "completed"
        },
        "tags": []
      },
      "source": [
        "# Emotion Recognition"
      ]
    },
    {
      "attachments": {},
      "cell_type": "markdown",
      "id": "aa0350c0",
      "metadata": {
        "id": "aa0350c0",
        "papermill": {
          "duration": 0.048942,
          "end_time": "2022-05-01T09:53:15.472095",
          "exception": false,
          "start_time": "2022-05-01T09:53:15.423153",
          "status": "completed"
        },
        "tags": []
      },
      "source": [
        "# Import Things"
      ]
    },
    {
      "cell_type": "code",
      "execution_count": 51,
      "id": "daa6165e",
      "metadata": {
        "execution": {
          "iopub.execute_input": "2022-05-01T09:53:30.260948Z",
          "iopub.status.busy": "2022-05-01T09:53:30.260664Z",
          "iopub.status.idle": "2022-05-01T09:53:33.146713Z",
          "shell.execute_reply": "2022-05-01T09:53:33.145889Z"
        },
        "id": "daa6165e",
        "papermill": {
          "duration": 2.944818,
          "end_time": "2022-05-01T09:53:33.149225",
          "exception": false,
          "start_time": "2022-05-01T09:53:30.204407",
          "status": "completed"
        },
        "tags": []
      },
      "outputs": [],
      "source": [
        "import pandas as pd\n",
        "import numpy as np\n",
        "import neattext.functions as nfs\n",
        "import plotly.express as px\n",
        "from keras.preprocessing.text import Tokenizer\n",
        "from keras.utils import pad_sequences\n",
        "from sklearn.model_selection import train_test_split\n",
        "from keras.utils import plot_model\n",
        "from keras.models import Sequential\n",
        "from keras.layers import Dense, LSTM, Embedding, SpatialDropout1D, Flatten, Bidirectional\n",
        "from keras.callbacks import EarlyStopping"
      ]
    },
    {
      "cell_type": "markdown",
      "id": "c35fe2f9",
      "metadata": {
        "id": "c35fe2f9",
        "papermill": {
          "duration": 0.053544,
          "end_time": "2022-05-01T09:53:33.257336",
          "exception": false,
          "start_time": "2022-05-01T09:53:33.203792",
          "status": "completed"
        },
        "tags": []
      },
      "source": [
        "# Read the data\n"
      ]
    },
    {
      "cell_type": "code",
      "execution_count": 2,
      "id": "15216ddd",
      "metadata": {
        "execution": {
          "iopub.execute_input": "2022-05-01T09:53:33.367064Z",
          "iopub.status.busy": "2022-05-01T09:53:33.366763Z",
          "iopub.status.idle": "2022-05-01T09:53:33.453281Z",
          "shell.execute_reply": "2022-05-01T09:53:33.452511Z"
        },
        "id": "15216ddd",
        "papermill": {
          "duration": 0.143623,
          "end_time": "2022-05-01T09:53:33.455389",
          "exception": false,
          "start_time": "2022-05-01T09:53:33.311766",
          "status": "completed"
        },
        "tags": []
      },
      "outputs": [],
      "source": [
        "df=pd.read_csv(r\"Emotion_final.csv\")\n"
      ]
    },
    {
      "cell_type": "code",
      "execution_count": 3,
      "id": "TxJ5nuKR1ZIg",
      "metadata": {
        "colab": {
          "base_uri": "https://localhost:8080/"
        },
        "id": "TxJ5nuKR1ZIg",
        "outputId": "c64faf1f-0293-444a-ccda-4f834ebed1ae"
      },
      "outputs": [
        {
          "name": "stdout",
          "output_type": "stream",
          "text": [
            "<class 'pandas.core.frame.DataFrame'>\n",
            "RangeIndex: 21459 entries, 0 to 21458\n",
            "Data columns (total 2 columns):\n",
            " #   Column   Non-Null Count  Dtype \n",
            "---  ------   --------------  ----- \n",
            " 0   Text     21459 non-null  object\n",
            " 1   Emotion  21459 non-null  object\n",
            "dtypes: object(2)\n",
            "memory usage: 335.4+ KB\n"
          ]
        }
      ],
      "source": [
        "df.info()"
      ]
    },
    {
      "attachments": {},
      "cell_type": "markdown",
      "id": "651ad599",
      "metadata": {
        "id": "651ad599",
        "papermill": {
          "duration": 0.034808,
          "end_time": "2022-05-01T09:53:33.525598",
          "exception": false,
          "start_time": "2022-05-01T09:53:33.490790",
          "status": "completed"
        },
        "tags": []
      },
      "source": [
        "## Print first 10 Rows from our Dataset:"
      ]
    },
    {
      "cell_type": "code",
      "execution_count": 5,
      "id": "SoiWPkOD1cMh",
      "metadata": {
        "colab": {
          "base_uri": "https://localhost:8080/"
        },
        "id": "SoiWPkOD1cMh",
        "outputId": "89692234-0f16-4b24-98d9-709c4a7a26d8"
      },
      "outputs": [
        {
          "data": {
            "text/html": [
              "<div>\n",
              "<style scoped>\n",
              "    .dataframe tbody tr th:only-of-type {\n",
              "        vertical-align: middle;\n",
              "    }\n",
              "\n",
              "    .dataframe tbody tr th {\n",
              "        vertical-align: top;\n",
              "    }\n",
              "\n",
              "    .dataframe thead th {\n",
              "        text-align: right;\n",
              "    }\n",
              "</style>\n",
              "<table border=\"1\" class=\"dataframe\">\n",
              "  <thead>\n",
              "    <tr style=\"text-align: right;\">\n",
              "      <th></th>\n",
              "      <th>Text</th>\n",
              "      <th>Emotion</th>\n",
              "    </tr>\n",
              "  </thead>\n",
              "  <tbody>\n",
              "    <tr>\n",
              "      <th>0</th>\n",
              "      <td>i didnt feel humiliated</td>\n",
              "      <td>sadness</td>\n",
              "    </tr>\n",
              "    <tr>\n",
              "      <th>1</th>\n",
              "      <td>i can go from feeling so hopeless to so damned...</td>\n",
              "      <td>sadness</td>\n",
              "    </tr>\n",
              "    <tr>\n",
              "      <th>2</th>\n",
              "      <td>im grabbing a minute to post i feel greedy wrong</td>\n",
              "      <td>anger</td>\n",
              "    </tr>\n",
              "    <tr>\n",
              "      <th>3</th>\n",
              "      <td>i am ever feeling nostalgic about the fireplac...</td>\n",
              "      <td>love</td>\n",
              "    </tr>\n",
              "    <tr>\n",
              "      <th>4</th>\n",
              "      <td>i am feeling grouchy</td>\n",
              "      <td>anger</td>\n",
              "    </tr>\n",
              "    <tr>\n",
              "      <th>5</th>\n",
              "      <td>ive been feeling a little burdened lately wasn...</td>\n",
              "      <td>sadness</td>\n",
              "    </tr>\n",
              "    <tr>\n",
              "      <th>6</th>\n",
              "      <td>ive been taking or milligrams or times recomme...</td>\n",
              "      <td>surprise</td>\n",
              "    </tr>\n",
              "    <tr>\n",
              "      <th>7</th>\n",
              "      <td>i feel as confused about life as a teenager or...</td>\n",
              "      <td>fear</td>\n",
              "    </tr>\n",
              "    <tr>\n",
              "      <th>8</th>\n",
              "      <td>i have been with petronas for years i feel tha...</td>\n",
              "      <td>happy</td>\n",
              "    </tr>\n",
              "    <tr>\n",
              "      <th>9</th>\n",
              "      <td>i feel romantic too</td>\n",
              "      <td>love</td>\n",
              "    </tr>\n",
              "  </tbody>\n",
              "</table>\n",
              "</div>"
            ],
            "text/plain": [
              "                                                Text   Emotion\n",
              "0                            i didnt feel humiliated   sadness\n",
              "1  i can go from feeling so hopeless to so damned...   sadness\n",
              "2   im grabbing a minute to post i feel greedy wrong     anger\n",
              "3  i am ever feeling nostalgic about the fireplac...      love\n",
              "4                               i am feeling grouchy     anger\n",
              "5  ive been feeling a little burdened lately wasn...   sadness\n",
              "6  ive been taking or milligrams or times recomme...  surprise\n",
              "7  i feel as confused about life as a teenager or...      fear\n",
              "8  i have been with petronas for years i feel tha...     happy\n",
              "9                                i feel romantic too      love"
            ]
          },
          "execution_count": 5,
          "metadata": {},
          "output_type": "execute_result"
        }
      ],
      "source": [
        "df.head(10)"
      ]
    },
    {
      "cell_type": "markdown",
      "id": "4daf527c",
      "metadata": {
        "id": "4daf527c",
        "papermill": {
          "duration": 0.034297,
          "end_time": "2022-05-01T09:53:33.767449",
          "exception": false,
          "start_time": "2022-05-01T09:53:33.733152",
          "status": "completed"
        },
        "tags": []
      },
      "source": [
        "## Show the Shape of Data:"
      ]
    },
    {
      "cell_type": "code",
      "execution_count": 7,
      "id": "98d0cffd",
      "metadata": {
        "colab": {
          "base_uri": "https://localhost:8080/"
        },
        "execution": {
          "iopub.execute_input": "2022-05-01T09:53:33.840822Z",
          "iopub.status.busy": "2022-05-01T09:53:33.840160Z",
          "iopub.status.idle": "2022-05-01T09:53:33.847232Z",
          "shell.execute_reply": "2022-05-01T09:53:33.846193Z"
        },
        "id": "98d0cffd",
        "outputId": "d982c6da-d596-4958-f729-9667ab384779",
        "papermill": {
          "duration": 0.047609,
          "end_time": "2022-05-01T09:53:33.850535",
          "exception": false,
          "start_time": "2022-05-01T09:53:33.802926",
          "status": "completed"
        },
        "tags": []
      },
      "outputs": [
        {
          "name": "stdout",
          "output_type": "stream",
          "text": [
            "Number of Rows in this dataset: 21459\n",
            "Number of columns in this dataset 2\n"
          ]
        }
      ],
      "source": [
        "print(\"Number of Rows in this dataset:\",df.shape[0])\n",
        "print(\"Number of columns in this dataset\",df.shape[1])"
      ]
    },
    {
      "attachments": {},
      "cell_type": "markdown",
      "id": "416c8353",
      "metadata": {
        "id": "416c8353",
        "papermill": {
          "duration": 0.036504,
          "end_time": "2022-05-01T09:53:34.092219",
          "exception": false,
          "start_time": "2022-05-01T09:53:34.055715",
          "status": "completed"
        },
        "tags": []
      },
      "source": [
        "## Describe the Data:"
      ]
    },
    {
      "cell_type": "code",
      "execution_count": null,
      "id": "aQj-BdsY1nXj",
      "metadata": {
        "colab": {
          "base_uri": "https://localhost:8080/"
        },
        "id": "aQj-BdsY1nXj",
        "outputId": "22125c33-34d4-41a7-9362-17cf9356f984"
      },
      "outputs": [
        {
          "data": {
            "text/html": [
              "\n",
              "  <div id=\"df-9c56a099-6ca2-4d7e-99ed-0f0bb8066145\">\n",
              "    <div class=\"colab-df-container\">\n",
              "      <div>\n",
              "<style scoped>\n",
              "    .dataframe tbody tr th:only-of-type {\n",
              "        vertical-align: middle;\n",
              "    }\n",
              "\n",
              "    .dataframe tbody tr th {\n",
              "        vertical-align: top;\n",
              "    }\n",
              "\n",
              "    .dataframe thead th {\n",
              "        text-align: right;\n",
              "    }\n",
              "</style>\n",
              "<table border=\"1\" class=\"dataframe\">\n",
              "  <thead>\n",
              "    <tr style=\"text-align: right;\">\n",
              "      <th></th>\n",
              "      <th>Text</th>\n",
              "      <th>Emotion</th>\n",
              "    </tr>\n",
              "  </thead>\n",
              "  <tbody>\n",
              "    <tr>\n",
              "      <th>count</th>\n",
              "      <td>21459</td>\n",
              "      <td>21459</td>\n",
              "    </tr>\n",
              "    <tr>\n",
              "      <th>unique</th>\n",
              "      <td>21405</td>\n",
              "      <td>6</td>\n",
              "    </tr>\n",
              "    <tr>\n",
              "      <th>top</th>\n",
              "      <td>i feel so tortured by it</td>\n",
              "      <td>happy</td>\n",
              "    </tr>\n",
              "    <tr>\n",
              "      <th>freq</th>\n",
              "      <td>2</td>\n",
              "      <td>7029</td>\n",
              "    </tr>\n",
              "  </tbody>\n",
              "</table>\n",
              "</div>\n",
              "      <button class=\"colab-df-convert\" onclick=\"convertToInteractive('df-9c56a099-6ca2-4d7e-99ed-0f0bb8066145')\"\n",
              "              title=\"Convert this dataframe to an interactive table.\"\n",
              "              style=\"display:none;\">\n",
              "        \n",
              "  <svg xmlns=\"http://www.w3.org/2000/svg\" height=\"24px\"viewBox=\"0 0 24 24\"\n",
              "       width=\"24px\">\n",
              "    <path d=\"M0 0h24v24H0V0z\" fill=\"none\"/>\n",
              "    <path d=\"M18.56 5.44l.94 2.06.94-2.06 2.06-.94-2.06-.94-.94-2.06-.94 2.06-2.06.94zm-11 1L8.5 8.5l.94-2.06 2.06-.94-2.06-.94L8.5 2.5l-.94 2.06-2.06.94zm10 10l.94 2.06.94-2.06 2.06-.94-2.06-.94-.94-2.06-.94 2.06-2.06.94z\"/><path d=\"M17.41 7.96l-1.37-1.37c-.4-.4-.92-.59-1.43-.59-.52 0-1.04.2-1.43.59L10.3 9.45l-7.72 7.72c-.78.78-.78 2.05 0 2.83L4 21.41c.39.39.9.59 1.41.59.51 0 1.02-.2 1.41-.59l7.78-7.78 2.81-2.81c.8-.78.8-2.07 0-2.86zM5.41 20L4 18.59l7.72-7.72 1.47 1.35L5.41 20z\"/>\n",
              "  </svg>\n",
              "      </button>\n",
              "      \n",
              "  <style>\n",
              "    .colab-df-container {\n",
              "      display:flex;\n",
              "      flex-wrap:wrap;\n",
              "      gap: 12px;\n",
              "    }\n",
              "\n",
              "    .colab-df-convert {\n",
              "      background-color: #E8F0FE;\n",
              "      border: none;\n",
              "      border-radius: 50%;\n",
              "      cursor: pointer;\n",
              "      display: none;\n",
              "      fill: #1967D2;\n",
              "      height: 32px;\n",
              "      padding: 0 0 0 0;\n",
              "      width: 32px;\n",
              "    }\n",
              "\n",
              "    .colab-df-convert:hover {\n",
              "      background-color: #E2EBFA;\n",
              "      box-shadow: 0px 1px 2px rgba(60, 64, 67, 0.3), 0px 1px 3px 1px rgba(60, 64, 67, 0.15);\n",
              "      fill: #174EA6;\n",
              "    }\n",
              "\n",
              "    [theme=dark] .colab-df-convert {\n",
              "      background-color: #3B4455;\n",
              "      fill: #D2E3FC;\n",
              "    }\n",
              "\n",
              "    [theme=dark] .colab-df-convert:hover {\n",
              "      background-color: #434B5C;\n",
              "      box-shadow: 0px 1px 3px 1px rgba(0, 0, 0, 0.15);\n",
              "      filter: drop-shadow(0px 1px 2px rgba(0, 0, 0, 0.3));\n",
              "      fill: #FFFFFF;\n",
              "    }\n",
              "  </style>\n",
              "\n",
              "      <script>\n",
              "        const buttonEl =\n",
              "          document.querySelector('#df-9c56a099-6ca2-4d7e-99ed-0f0bb8066145 button.colab-df-convert');\n",
              "        buttonEl.style.display =\n",
              "          google.colab.kernel.accessAllowed ? 'block' : 'none';\n",
              "\n",
              "        async function convertToInteractive(key) {\n",
              "          const element = document.querySelector('#df-9c56a099-6ca2-4d7e-99ed-0f0bb8066145');\n",
              "          const dataTable =\n",
              "            await google.colab.kernel.invokeFunction('convertToInteractive',\n",
              "                                                     [key], {});\n",
              "          if (!dataTable) return;\n",
              "\n",
              "          const docLinkHtml = 'Like what you see? Visit the ' +\n",
              "            '<a target=\"_blank\" href=https://colab.research.google.com/notebooks/data_table.ipynb>data table notebook</a>'\n",
              "            + ' to learn more about interactive tables.';\n",
              "          element.innerHTML = '';\n",
              "          dataTable['output_type'] = 'display_data';\n",
              "          await google.colab.output.renderOutput(dataTable, element);\n",
              "          const docLink = document.createElement('div');\n",
              "          docLink.innerHTML = docLinkHtml;\n",
              "          element.appendChild(docLink);\n",
              "        }\n",
              "      </script>\n",
              "    </div>\n",
              "  </div>\n",
              "  "
            ],
            "text/plain": [
              "                            Text Emotion\n",
              "count                      21459   21459\n",
              "unique                     21405       6\n",
              "top     i feel so tortured by it   happy\n",
              "freq                           2    7029"
            ]
          },
          "execution_count": 80,
          "metadata": {},
          "output_type": "execute_result"
        }
      ],
      "source": [
        "df.describe()"
      ]
    },
    {
      "cell_type": "markdown",
      "id": "810dbc9b",
      "metadata": {
        "id": "810dbc9b",
        "papermill": {
          "duration": 0.036872,
          "end_time": "2022-05-01T09:53:34.544130",
          "exception": false,
          "start_time": "2022-05-01T09:53:34.507258",
          "status": "completed"
        },
        "tags": []
      },
      "source": [
        "## Visualize Emotions:"
      ]
    },
    {
      "cell_type": "code",
      "execution_count": null,
      "id": "50d49377",
      "metadata": {
        "colab": {
          "base_uri": "https://localhost:8080/",
          "height": 417
        },
        "execution": {
          "iopub.execute_input": "2022-05-01T09:53:34.620660Z",
          "iopub.status.busy": "2022-05-01T09:53:34.620071Z",
          "iopub.status.idle": "2022-05-01T09:53:35.731669Z",
          "shell.execute_reply": "2022-05-01T09:53:35.730530Z"
        },
        "id": "50d49377",
        "outputId": "0842bcbc-f9fe-4da9-dc70-1a709bf49645",
        "papermill": {
          "duration": 1.152183,
          "end_time": "2022-05-01T09:53:35.733988",
          "exception": false,
          "start_time": "2022-05-01T09:53:34.581805",
          "status": "completed"
        },
        "tags": []
      },
      "outputs": [],
      "source": [
        "emotion=pd.DataFrame(df[\"Emotion\"].value_counts().sort_values(ascending=False).reset_index().rename(columns={\"index\":\"Emotion\",\"Emotion\":\"Total\"}))\n",
        "\n",
        "\n",
        "fig=px.pie(labels=emotion[\"Emotion\"],values=emotion['Total'],names=emotion[\"Emotion\"],width=500,height=500,title=\"Show the Emotions in %\")\n",
        "fig.update_traces(textposition = 'inside', \n",
        "                  textinfo = 'percent + label', \n",
        "                  hole = 0.75, \n",
        "                  marker = dict(colors = ['#3D0C02', '#800000'  , '#C11B17','#C0C0C0'], \n",
        "                                line = dict(color = 'white', width = 2)))\n",
        "\n",
        "fig.update_layout(annotations = [dict(text = 'Emotions', \n",
        "                                      x = 0.5, y = 0.5, font_size = 36, showarrow = False,                                       \n",
        "                                      font_color = 'black')],\n",
        "                  showlegend = False)\n",
        "\n",
        "fig.update_xaxes(showgrid=False)\n",
        "\n",
        "fig.update_yaxes(showgrid=False, categoryorder='total ascending', ticksuffix=' ', showline=False)\n",
        "\n",
        "fig.update_traces(hovertemplate=None, marker=dict(line=dict(width=0)))\n",
        "\n",
        "fig.update_layout(margin=dict(t=80, b=0, l=70, r=40),hovermode=\"y unified\",\n",
        "                  xaxis_title=' ', yaxis_title=\" \", height=400,width=600,plot_bgcolor='#333', paper_bgcolor='#333',\n",
        "title_font=dict(size=25, color='#8a8d93', family=\"Lato, sans-serif\"),\n",
        "font=dict(color='#8a8d93'),\n",
        "                  legend=dict(orientation=\"h\", yanchor=\"bottom\", y=1, xanchor=\"center\", x=1.5),\n",
        "                  hoverlabel=dict(bgcolor=\"black\", font_size=13, font_family=\"Lato, sans-serif\"))\n",
        "                  \n",
        "                  \n",
        "\n",
        "\n",
        "fig.show()"
      ]
    },
    {
      "cell_type": "markdown",
      "id": "bb4c22c6",
      "metadata": {
        "id": "bb4c22c6",
        "papermill": {
          "duration": 0.036532,
          "end_time": "2022-05-01T09:53:34.287936",
          "exception": false,
          "start_time": "2022-05-01T09:53:34.251404",
          "status": "completed"
        },
        "tags": []
      },
      "source": [
        "## Show the null value in this dataset"
      ]
    },
    {
      "cell_type": "code",
      "execution_count": 10,
      "id": "01e9faaf",
      "metadata": {
        "colab": {
          "base_uri": "https://localhost:8080/"
        },
        "execution": {
          "iopub.execute_input": "2022-05-01T09:53:34.363509Z",
          "iopub.status.busy": "2022-05-01T09:53:34.363158Z",
          "iopub.status.idle": "2022-05-01T09:53:34.378372Z",
          "shell.execute_reply": "2022-05-01T09:53:34.377297Z"
        },
        "id": "01e9faaf",
        "outputId": "cb98db77-46a4-44bf-e10d-a14c7ba18427",
        "papermill": {
          "duration": 0.056002,
          "end_time": "2022-05-01T09:53:34.380990",
          "exception": false,
          "start_time": "2022-05-01T09:53:34.324988",
          "status": "completed"
        },
        "tags": []
      },
      "outputs": [
        {
          "data": {
            "text/plain": [
              "Text       0\n",
              "Emotion    0\n",
              "dtype: int64"
            ]
          },
          "execution_count": 10,
          "metadata": {},
          "output_type": "execute_result"
        }
      ],
      "source": [
        "df.isnull().sum()"
      ]
    },
    {
      "cell_type": "code",
      "execution_count": 11,
      "id": "621a61bc",
      "metadata": {
        "colab": {
          "base_uri": "https://localhost:8080/"
        },
        "execution": {
          "iopub.execute_input": "2022-05-01T09:53:34.457629Z",
          "iopub.status.busy": "2022-05-01T09:53:34.457109Z",
          "iopub.status.idle": "2022-05-01T09:53:34.467455Z",
          "shell.execute_reply": "2022-05-01T09:53:34.465974Z"
        },
        "id": "621a61bc",
        "outputId": "6347dd61-15c2-4b64-d966-c67c46f6292e",
        "papermill": {
          "duration": 0.050985,
          "end_time": "2022-05-01T09:53:34.469663",
          "exception": false,
          "start_time": "2022-05-01T09:53:34.418678",
          "status": "completed"
        },
        "tags": []
      },
      "outputs": [
        {
          "data": {
            "text/plain": [
              "Emotion\n",
              "happy       7029\n",
              "sadness     6265\n",
              "anger       2993\n",
              "fear        2652\n",
              "love        1641\n",
              "surprise     879\n",
              "Name: count, dtype: int64"
            ]
          },
          "execution_count": 11,
          "metadata": {},
          "output_type": "execute_result"
        }
      ],
      "source": [
        "df[\"Emotion\"].value_counts()"
      ]
    },
    {
      "cell_type": "markdown",
      "id": "62cb758d",
      "metadata": {
        "id": "62cb758d",
        "papermill": {
          "duration": 0.038904,
          "end_time": "2022-05-01T09:53:35.812058",
          "exception": false,
          "start_time": "2022-05-01T09:53:35.773154",
          "status": "completed"
        },
        "tags": [
          "Preprocessing"
        ]
      },
      "source": [
        "# Data Preprocessing"
      ]
    },
    {
      "cell_type": "markdown",
      "id": "RugwbZD6hO7o",
      "metadata": {
        "id": "RugwbZD6hO7o"
      },
      "source": [
        "## Remove stopwords"
      ]
    },
    {
      "cell_type": "code",
      "execution_count": 60,
      "id": "699a7acc",
      "metadata": {
        "execution": {
          "iopub.execute_input": "2022-05-01T09:53:35.893829Z",
          "iopub.status.busy": "2022-05-01T09:53:35.893527Z",
          "iopub.status.idle": "2022-05-01T09:53:36.073499Z",
          "shell.execute_reply": "2022-05-01T09:53:36.072340Z"
        },
        "id": "699a7acc",
        "papermill": {
          "duration": 0.222643,
          "end_time": "2022-05-01T09:53:36.076105",
          "exception": false,
          "start_time": "2022-05-01T09:53:35.853462",
          "status": "completed"
        },
        "tags": []
      },
      "outputs": [
        {
          "data": {
            "text/plain": [
              "0                                    didnt feel humiliated\n",
              "1              feeling hopeless damned hopeful cares awake\n",
              "2                im grabbing minute post feel greedy wrong\n",
              "3                feeling nostalgic fireplace know property\n",
              "4                                          feeling grouchy\n",
              "                               ...                        \n",
              "21454                           Melissa stared friend dism\n",
              "21455    Successive state elections seen governing part...\n",
              "21456                             Vincent irritated dismay\n",
              "21457               Kendall-Hume turned face dismayed coup\n",
              "21458                                   dismayed , surpris\n",
              "Name: clean_text, Length: 21459, dtype: object"
            ]
          },
          "execution_count": 60,
          "metadata": {},
          "output_type": "execute_result"
        }
      ],
      "source": [
        "df[\"clean_text\"]=df[\"Text\"].apply(nfs.remove_stopwords)\n",
        "df[\"clean_text\"]"
      ]
    },
    {
      "cell_type": "markdown",
      "id": "TcB1c5tehzIY",
      "metadata": {
        "id": "TcB1c5tehzIY"
      },
      "source": [
        "## Make Dummies"
      ]
    },
    {
      "cell_type": "code",
      "execution_count": 6,
      "id": "6nhn2imBUrDX",
      "metadata": {
        "id": "6nhn2imBUrDX"
      },
      "outputs": [],
      "source": [
        "yy = pd.get_dummies(df[\"Emotion\"])"
      ]
    },
    {
      "cell_type": "code",
      "execution_count": 7,
      "id": "BjvkM9X7dFib",
      "metadata": {
        "colab": {
          "base_uri": "https://localhost:8080/"
        },
        "id": "BjvkM9X7dFib",
        "outputId": "ca9a048e-0eee-44a8-d11b-af7a88ce34ca"
      },
      "outputs": [
        {
          "data": {
            "text/plain": [
              "array(['anger', 'fear', 'happy', 'love', 'sadness', 'surprise'],\n",
              "      dtype=object)"
            ]
          },
          "execution_count": 7,
          "metadata": {},
          "output_type": "execute_result"
        }
      ],
      "source": [
        "class_labels = yy.columns.values\n",
        "class_labels"
      ]
    },
    {
      "cell_type": "markdown",
      "id": "4c9b3f38",
      "metadata": {
        "id": "4c9b3f38",
        "papermill": {
          "duration": 0.059115,
          "end_time": "2022-05-01T09:53:36.449218",
          "exception": false,
          "start_time": "2022-05-01T09:53:36.390103",
          "status": "completed"
        },
        "tags": []
      },
      "source": [
        "## Extract two Features from the data:"
      ]
    },
    {
      "cell_type": "code",
      "execution_count": 8,
      "id": "dbb7e8f5",
      "metadata": {
        "execution": {
          "iopub.execute_input": "2022-05-01T09:53:36.568437Z",
          "iopub.status.busy": "2022-05-01T09:53:36.568153Z",
          "iopub.status.idle": "2022-05-01T09:53:36.573220Z",
          "shell.execute_reply": "2022-05-01T09:53:36.572283Z"
        },
        "id": "dbb7e8f5",
        "papermill": {
          "duration": 0.067093,
          "end_time": "2022-05-01T09:53:36.575332",
          "exception": false,
          "start_time": "2022-05-01T09:53:36.508239",
          "status": "completed"
        },
        "tags": []
      },
      "outputs": [],
      "source": [
        "X=df[\"clean_text\"]\n",
        "y=df[\"Emotion\"]"
      ]
    },
    {
      "cell_type": "code",
      "execution_count": 16,
      "id": "8fmEtofBSS2S",
      "metadata": {
        "colab": {
          "base_uri": "https://localhost:8080/"
        },
        "id": "8fmEtofBSS2S",
        "outputId": "89f3c37d-29f2-4541-be3a-e53b13d07b0a"
      },
      "outputs": [
        {
          "data": {
            "text/plain": [
              "0                                    didnt feel humiliated\n",
              "1              feeling hopeless damned hopeful cares awake\n",
              "2                im grabbing minute post feel greedy wrong\n",
              "3                feeling nostalgic fireplace know property\n",
              "4                                          feeling grouchy\n",
              "                               ...                        \n",
              "21454                           Melissa stared friend dism\n",
              "21455    Successive state elections seen governing part...\n",
              "21456                             Vincent irritated dismay\n",
              "21457               Kendall-Hume turned face dismayed coup\n",
              "21458                                   dismayed , surpris\n",
              "Name: clean_text, Length: 21459, dtype: object"
            ]
          },
          "execution_count": 16,
          "metadata": {},
          "output_type": "execute_result"
        }
      ],
      "source": [
        "X"
      ]
    },
    {
      "cell_type": "code",
      "execution_count": 17,
      "id": "-FraBKWj3t_c",
      "metadata": {
        "colab": {
          "base_uri": "https://localhost:8080/"
        },
        "id": "-FraBKWj3t_c",
        "outputId": "6ad6212f-a23e-4417-be16-68e47af9670c"
      },
      "outputs": [
        {
          "data": {
            "text/plain": [
              "'didnt feel humiliated'"
            ]
          },
          "execution_count": 17,
          "metadata": {},
          "output_type": "execute_result"
        }
      ],
      "source": [
        "X[0]"
      ]
    },
    {
      "cell_type": "markdown",
      "id": "qXYV8IBTiPkA",
      "metadata": {
        "id": "qXYV8IBTiPkA"
      },
      "source": [
        "## Tokenize the texts"
      ]
    },
    {
      "cell_type": "code",
      "execution_count": 9,
      "id": "BocuV_AmVLGU",
      "metadata": {
        "id": "BocuV_AmVLGU"
      },
      "outputs": [],
      "source": [
        "MAX_WORDS = 2500\n",
        "MAX_SEQUENCE_LENGTH = X.apply(len).max()\n",
        "EMBEDDING_DIM = 100\n",
        "\n",
        "tokenizer = Tokenizer(num_words=MAX_WORDS, filters='!\"#$%&()*+,-./:;<=>?@[\\]^_`{|}~')\n",
        "tokenizer.fit_on_texts(X.values)\n",
        "word_index = tokenizer.word_index\n",
        "X2 = tokenizer.texts_to_sequences(X.values)"
      ]
    },
    {
      "cell_type": "markdown",
      "id": "RHAdxSxXiqXH",
      "metadata": {
        "id": "RHAdxSxXiqXH"
      },
      "source": [
        "## Add Padding"
      ]
    },
    {
      "cell_type": "code",
      "execution_count": 10,
      "id": "cKKZ3ytdWHOI",
      "metadata": {
        "id": "cKKZ3ytdWHOI"
      },
      "outputs": [],
      "source": [
        "X2 = pad_sequences(X2, maxlen=MAX_SEQUENCE_LENGTH)"
      ]
    },
    {
      "cell_type": "code",
      "execution_count": 21,
      "id": "KghxliQdV24T",
      "metadata": {
        "colab": {
          "base_uri": "https://localhost:8080/"
        },
        "id": "KghxliQdV24T",
        "outputId": "b45b0fc4-3e8f-44b5-d0c5-f2a9bebaf247"
      },
      "outputs": [
        {
          "data": {
            "text/plain": [
              "array([  0,   0,   0,   0,   0,   0,   0,   0,   0,   0,   0,   0,   0,\n",
              "         0,   0,   0,   0,   0,   0,   0,   0,   0,   0,   0,   0,   0,\n",
              "         0,   0,   0,   0,   0,   0,   0,   0,   0,   0,   0,   0,   0,\n",
              "         0,   0,   0,   0,   0,   0,   0,   0,   0,   0,   0,   0,   0,\n",
              "         0,   0,   0,   0,   0,   0,   0,   0,   0,   0,   0,   0,   0,\n",
              "         0,   0,   0,   0,   0,   0,   0,   0,   0,   0,   0,   0,   0,\n",
              "         0,   0,   0,   0,   0,   0,   0,   0,   0,   0,   0,   0,   0,\n",
              "         0,   0,   0,   0,   0,   0,   0,   0,   0,   0,   0,   0,   0,\n",
              "         0,   0,   0,   0,   0,   0,   0,   0,   0,   0,   0,   0,   0,\n",
              "         0,   0,   0,   0,   0,   0,   0,   0,   0,   0,   0,   0,   0,\n",
              "         0,   0,   0,   0,   0,   0,   0,   0,   0,   0,   0,   0,   0,\n",
              "         0,   0,   0,   0,   0,   0,   0,   0,   0,   0,   0,   0,   0,\n",
              "         0,   0,   0,   0,   0,   0,   0,   0,   0,   0,   0,   0,   0,\n",
              "         0,   0,   0,   0,   0,   0,   0,   0,   0,   0,   0,   0,   0,\n",
              "         0,   0,   0,   0,   0,   0,   0,   0,   0,   0,   0,   0,   0,\n",
              "         0,   0,   0,   0,   0,   0,   0,   0,   0,   0,   0,   0,   0,\n",
              "         0,   0,   0,   0,   0,   0,   0,   0,   0,   0,   0,   0,   0,\n",
              "         0,   0,   0,  33,   1, 465], dtype=int32)"
            ]
          },
          "execution_count": 21,
          "metadata": {},
          "output_type": "execute_result"
        }
      ],
      "source": [
        "X2[0]"
      ]
    },
    {
      "cell_type": "markdown",
      "id": "Kh24Mz6mi3S2",
      "metadata": {
        "id": "Kh24Mz6mi3S2"
      },
      "source": [
        "## Split the data (90% train, 10% test) "
      ]
    },
    {
      "cell_type": "code",
      "execution_count": 11,
      "id": "1aRJ4Mh5iCZw",
      "metadata": {
        "id": "1aRJ4Mh5iCZw"
      },
      "outputs": [],
      "source": [
        "X_train, X_test, Y_train, Y_test = train_test_split(X2,yy,stratify=yy, test_size = 0.10, random_state = 42)"
      ]
    },
    {
      "cell_type": "markdown",
      "id": "URBBlXEwjM8u",
      "metadata": {
        "id": "URBBlXEwjM8u"
      },
      "source": [
        "# Model"
      ]
    },
    {
      "cell_type": "code",
      "execution_count": 58,
      "id": "vBFrF-dxqthQ",
      "metadata": {
        "colab": {
          "base_uri": "https://localhost:8080/"
        },
        "id": "vBFrF-dxqthQ",
        "outputId": "4cf953e2-1346-43b6-b82c-93fc8778bf2d"
      },
      "outputs": [],
      "source": [
        "model = Sequential()\n",
        "model.add(Embedding(MAX_WORDS, EMBEDDING_DIM, input_length=X_train.shape[1]))\n",
        "model.add(SpatialDropout1D(0.2))\n",
        "model.add(Flatten())\n",
        "model.add(Dense(6, activation='softmax'))\n",
        "model.compile(loss='categorical_crossentropy',\n",
        "              optimizer='adam', metrics=['accuracy'])"
      ]
    },
    {
      "attachments": {},
      "cell_type": "markdown",
      "id": "cdd59ea1",
      "metadata": {},
      "source": [
        "## Model Visualization"
      ]
    },
    {
      "cell_type": "code",
      "execution_count": 59,
      "id": "57c93332",
      "metadata": {},
      "outputs": [
        {
          "data": {
            "image/png": "[encoded data removed]",
            "text/plain": [
              "<IPython.core.display.Image object>"
            ]
          },
          "execution_count": 59,
          "metadata": {},
          "output_type": "execute_result"
        }
      ],
      "source": [
        "plot_model(model, show_shapes=True)"
      ]
    },
    {
      "attachments": {},
      "cell_type": "markdown",
      "id": "df722898",
      "metadata": {},
      "source": [
        "## Train the Model"
      ]
    },
    {
      "cell_type": "code",
      "execution_count": 46,
      "id": "30309a34",
      "metadata": {},
      "outputs": [
        {
          "name": "stdout",
          "output_type": "stream",
          "text": [
            "Epoch 1/20\n",
            "136/136 [==============================] - 1s 8ms/step - loss: 1.5378 - accuracy: 0.4104 - val_loss: 1.3108 - val_accuracy: 0.5683\n",
            "Epoch 2/20\n",
            "136/136 [==============================] - 1s 8ms/step - loss: 0.9149 - accuracy: 0.7253 - val_loss: 0.6574 - val_accuracy: 0.8111\n",
            "Epoch 3/20\n",
            "136/136 [==============================] - 1s 8ms/step - loss: 0.4447 - accuracy: 0.8739 - val_loss: 0.4456 - val_accuracy: 0.8483\n",
            "Epoch 4/20\n",
            "136/136 [==============================] - 1s 8ms/step - loss: 0.2906 - accuracy: 0.9154 - val_loss: 0.3904 - val_accuracy: 0.8608\n",
            "Epoch 5/20\n",
            "136/136 [==============================] - 1s 7ms/step - loss: 0.2232 - accuracy: 0.9319 - val_loss: 0.3743 - val_accuracy: 0.8634\n",
            "Epoch 6/20\n",
            "136/136 [==============================] - 1s 7ms/step - loss: 0.1832 - accuracy: 0.9448 - val_loss: 0.3738 - val_accuracy: 0.8634\n",
            "Epoch 7/20\n",
            "136/136 [==============================] - 1s 7ms/step - loss: 0.1554 - accuracy: 0.9551 - val_loss: 0.3767 - val_accuracy: 0.8654\n",
            "Epoch 8/20\n",
            "136/136 [==============================] - 1s 7ms/step - loss: 0.1357 - accuracy: 0.9623 - val_loss: 0.3857 - val_accuracy: 0.8623\n",
            "Epoch 9/20\n",
            "136/136 [==============================] - 1s 7ms/step - loss: 0.1202 - accuracy: 0.9663 - val_loss: 0.3953 - val_accuracy: 0.8659\n",
            "Epoch 10/20\n",
            "136/136 [==============================] - 1s 7ms/step - loss: 0.1054 - accuracy: 0.9720 - val_loss: 0.4049 - val_accuracy: 0.8665\n"
          ]
        }
      ],
      "source": [
        "epochs = 20\n",
        "batch_size = 128\n",
        "callback = EarlyStopping(\n",
        "    monitor=\"val_loss\",\n",
        "    patience=4,\n",
        "    restore_best_weights=True,\n",
        ")\n",
        "\n",
        "history = model.fit(X_train, Y_train, epochs=epochs, batch_size=batch_size,validation_split=0.1,callbacks=[callback])"
      ]
    },
    {
      "attachments": {},
      "cell_type": "markdown",
      "id": "07bf887a",
      "metadata": {},
      "source": [
        "## Obtain Predictions"
      ]
    },
    {
      "cell_type": "code",
      "execution_count": 24,
      "id": "A3tY6U1OaND1",
      "metadata": {
        "colab": {
          "base_uri": "https://localhost:8080/"
        },
        "id": "A3tY6U1OaND1",
        "outputId": "7991549c-a599-4424-b4d0-d584d38c4674"
      },
      "outputs": [
        {
          "name": "stdout",
          "output_type": "stream",
          "text": [
            "68/68 [==============================] - 4s 57ms/step\n"
          ]
        }
      ],
      "source": [
        "# Obtain predictions from the model\n",
        "y_pred = model.predict(X_test)\n",
        "\n",
        "# # Convert one-hot encoded predictions to class labels\n",
        "# y_pred_labels = np.argmax(y_pred, axis=1)\n",
        "\n",
        "# # Convert one-hot encoded predictions to probabilities\n",
        "# y_pred_probs = y_pred"
      ]
    },
    {
      "cell_type": "code",
      "execution_count": null,
      "id": "DDOL7Bjy7T6Y",
      "metadata": {
        "colab": {
          "base_uri": "https://localhost:8080/"
        },
        "id": "DDOL7Bjy7T6Y",
        "outputId": "0850c76e-ee0d-4a5b-cba4-e7d9632c8495"
      },
      "outputs": [
        {
          "data": {
            "text/plain": [
              "array([5.9508446e-05, 7.8966168e-06, 9.9958974e-01, 1.1106504e-04,\n",
              "       2.3039430e-04, 1.4845472e-06], dtype=float32)"
            ]
          },
          "execution_count": 96,
          "metadata": {},
          "output_type": "execute_result"
        }
      ],
      "source": [
        "y_pred[0]"
      ]
    },
    {
      "cell_type": "code",
      "execution_count": null,
      "id": "AFKiliMHarqT",
      "metadata": {
        "id": "AFKiliMHarqT"
      },
      "outputs": [],
      "source": [
        "y_pred_labels = np.argmax(y_pred, axis=1)"
      ]
    },
    {
      "cell_type": "code",
      "execution_count": null,
      "id": "qzfdeGL_avzT",
      "metadata": {
        "colab": {
          "base_uri": "https://localhost:8080/"
        },
        "id": "qzfdeGL_avzT",
        "outputId": "b37639fd-32ca-4c31-e380-cc29d833c0d6"
      },
      "outputs": [
        {
          "data": {
            "text/plain": [
              "array([2, 4, 1, ..., 2, 1, 4])"
            ]
          },
          "execution_count": 98,
          "metadata": {},
          "output_type": "execute_result"
        }
      ],
      "source": [
        "y_pred_labels"
      ]
    },
    {
      "cell_type": "code",
      "execution_count": null,
      "id": "HSHidPnWdoAH",
      "metadata": {
        "id": "HSHidPnWdoAH"
      },
      "outputs": [],
      "source": [
        "class_labels\n",
        "actual_classes = [class_labels[label] for label in y_pred_labels]"
      ]
    },
    {
      "cell_type": "code",
      "execution_count": null,
      "id": "hrRTKHofbKGH",
      "metadata": {
        "colab": {
          "base_uri": "https://localhost:8080/"
        },
        "id": "hrRTKHofbKGH",
        "outputId": "4dd26627-59ec-4746-ec9f-5d1f31a01107"
      },
      "outputs": [
        {
          "data": {
            "text/plain": [
              "array([  0,   0,   0,   0,   0,   0,   0,   0,   0,   0,   0,   0,   0,\n",
              "         0,   0,   0,   0,   0,   0,   0,   0,   0,   0,   0,   0,   0,\n",
              "         0,   0,   0,   0,   0,   0,   0,   0,   0,   0,   0,   0,   0,\n",
              "         0,   0,   0,   0,   0,   0,   0,   0,   0,   0,   0,   0,   0,\n",
              "         0,   0,   0,   0,   0,   0,   0,   0,   0,   0,   0,   0,   0,\n",
              "         0,   0,   0,   0,   0,   0,   0,   0,   0,   0,   0,   0,   0,\n",
              "         0,   0,   0,   0,   0,   0,   0,   0,   0,   0,   0,   0,   0,\n",
              "         0,   0,   0,   0,   0,   0,   0,   0,   0,   0,   0,   0,   0,\n",
              "         0,   0,   0,   0,   0,   0,   0,   0,   0,   0,   0,   0,   0,\n",
              "         0,   0,   0,   0,   0,   0,   0,   0,   0,   0,   0,   0,   0,\n",
              "         0,   0,   0,   0,   0,   0,   0,   0,   0,   0,   0,   0,   0,\n",
              "         0,   0,   0,   0,   0,   0,   0,   0,   0,   0,   0,   0,   0,\n",
              "         0,   0,   0,   0,   0,   0,   0,   0,   0,   0,   0,   0,   0,\n",
              "         0,   0,   0,   0,   0,   0,   0,   0,   0,   0,   0,   0,   0,\n",
              "         0,   0,   0,   0,   0,   0,   0,   0,   0,   0,   0,   0,   0,\n",
              "         0,   0,   0,   0,   0,   0,   0,   0,   0,   0,   0,   0,   0,\n",
              "         0,   0,   0,   0,   0,   0,   0,   0,   0,   0,   0,   0,   0,\n",
              "         4,   2, 969, 756, 159,   1], dtype=int32)"
            ]
          },
          "execution_count": 100,
          "metadata": {},
          "output_type": "execute_result"
        }
      ],
      "source": [
        "X_test[0]"
      ]
    },
    {
      "cell_type": "code",
      "execution_count": null,
      "id": "fKSwiVnEazUb",
      "metadata": {
        "id": "fKSwiVnEazUb"
      },
      "outputs": [],
      "source": [
        "text_sequences = tokenizer.sequences_to_texts(X_test)\n"
      ]
    },
    {
      "cell_type": "code",
      "execution_count": null,
      "id": "_pDMTmeVcRho",
      "metadata": {
        "colab": {
          "base_uri": "https://localhost:8080/"
        },
        "id": "_pDMTmeVcRho",
        "outputId": "73ec3749-f06c-4d81-8ab5-39752529a3a6"
      },
      "outputs": [
        {
          "data": {
            "text/plain": [
              "['im feeling jolly warm inside feel',\n",
              " 'words letters feel like took college brain damaged',\n",
              " 'love actually actually feel intimidated running outside',\n",
              " 'ive suffering innocent children hands violent feel helpless trying things better',\n",
              " 'feel heartless saying',\n",
              " 'im feeling naughty like add little',\n",
              " 'want feel angry right feel way',\n",
              " 'refuse stay silent instead response sorry interested actually way feel shitty',\n",
              " 'feel pretty weird considering friends colleagues new going reality',\n",
              " 'wonder feeling complacent result',\n",
              " 'feel like im hated',\n",
              " 'feel horrible making worried',\n",
              " 'suggest listen feel like blessed',\n",
              " 'day head feeling little melancholy depressed couldnt bring water',\n",
              " 'hear cool times day makes feel cool',\n",
              " 'feeling brave like walk beach day',\n",
              " 'ive feeling depressed lately things understand',\n",
              " 'cant feel complacent',\n",
              " 'ive change feeling productive lately lets goes shall',\n",
              " 'intense excitement given way feeling stomach unable eat',\n",
              " 'mother pleased local town park child',\n",
              " 'reply comments feel free share thoughts let talk',\n",
              " 'didnt expect feel disheartened',\n",
              " 'feel little naughty wear',\n",
              " 'feel heartbroken sad',\n",
              " 'feel petty games',\n",
              " 'feel like totally vain totally necessary time',\n",
              " 'im feeling craving naughty sweet choose',\n",
              " 'feel like im talented line hear',\n",
              " 'bought fit film feeling remorseful',\n",
              " 'away im feeling greedy moment',\n",
              " 'angry tell feel broke speed decision',\n",
              " 'ashamed family ashamed feeling ashamed',\n",
              " \"'s good miss said exasperat\",\n",
              " 'sure hope helps im tired feeling lousy',\n",
              " 'tend think kinda understand feel things clever way field especially feeling losing',\n",
              " 'feel relaxed enjoy',\n",
              " 'wear especially feeling anxious worried future',\n",
              " 'feel deserve sympathy help caring feel worthy',\n",
              " 'feel jealous chance meet everyday',\n",
              " 'feel like needs shes content guess working shes little',\n",
              " 'pull im feeling low',\n",
              " 'pray look phone time feel anxiety levels getting superior',\n",
              " 'feel strange',\n",
              " 'got feeling vain reply message',\n",
              " 'feel fear beloved years',\n",
              " 'havent gotten paying wasnt fully successful years feel ive tortured',\n",
              " 'played great set feel hesitant ask',\n",
              " 'stand come complete stranger feel compassionate',\n",
              " 'understand feeling anxious',\n",
              " 'creating relationship self accepted allowed self definition means feeling lousy thinking praise gain',\n",
              " 'im feeling restless frustrated right way specific people illness injury',\n",
              " 'feel grumpy wake early',\n",
              " 'feel badly daughter thats tragic',\n",
              " 'feel disturbed betrayed slightly',\n",
              " 'said feel unhappy way running government wait',\n",
              " 'feel sociable friends wise guess miss',\n",
              " 'like makes feel like fully self assured',\n",
              " 'feeling horny afternoon fulfill sexual desire bed creative thoughts help work like magic',\n",
              " 'write bit im feeling particularly energetic',\n",
              " 'feeling balance troubled consider choose',\n",
              " 'feel listless today',\n",
              " 'fear',\n",
              " 'feel soo lonely',\n",
              " 'tried reading problems feel like superior helping young person',\n",
              " 'definitely pre holiday feel good going holiday season probably shouldnt',\n",
              " 'feel pretty dont want',\n",
              " 'feel melancholy times away mind',\n",
              " 'feel like resolved',\n",
              " 'feel people read writing know dumb',\n",
              " 'listen song feel sorrowful atmosphere',\n",
              " 'im feeling today successful',\n",
              " 'im far ahead released wont anymore wait wont damn feel slightly remorseful',\n",
              " 'feel recipe intelligent cook play time',\n",
              " 'feeling depressed went',\n",
              " 'think feeling trusting god',\n",
              " \"'m miserable eat\",\n",
              " 'hate feeling loyal company',\n",
              " 'feel offended times hearing strongly',\n",
              " 'feel way feel accepted comfortable setting',\n",
              " 'feel atmosphere dangerous',\n",
              " 'thrilled outcome feeling crappy celebrate started feeling better',\n",
              " 'choose feel sweet drawing bit',\n",
              " 'feeling loved asked party thank note feel',\n",
              " 'feel like cant respected self respect regular hate self',\n",
              " 'left feeling',\n",
              " 'im feeling generous like fairly impression like',\n",
              " 'feel privileged great man action impossible like work looking',\n",
              " 'mean feeling pretty good ask trouble know mean',\n",
              " 'appreciate feels strange sitting packing close',\n",
              " 'told im didnt want feel uncomfortable',\n",
              " 'feel projects clever useful figured start sharing wrote weekend',\n",
              " 'dont want need feel helpless',\n",
              " 'ill let shed tears feel bitter confused frustrated hurt time',\n",
              " 'want use space political box feel reached important strongly future food country possibly world',\n",
              " 'feel terrific great worth',\n",
              " 'feel overwhelmed rushed',\n",
              " 'feel sorry',\n",
              " 'state feel like im trusting people right',\n",
              " 'feel ashamed wasted years life time',\n",
              " 'feel extremely lucky blessed work young ladies',\n",
              " 'im makes feel',\n",
              " 'feel caring wondering',\n",
              " 'came home feeling pretty rotten',\n",
              " 'reading written feel real sweet pain love lord',\n",
              " 'received letter admit im starting feel slightly troubled',\n",
              " 'suggest hard cause bit slow times feel bit tug heart feel tear tear heartless rest world',\n",
              " 'feeling proud',\n",
              " 'im sure feels wonderful',\n",
              " 'worried maybe sleeping getting feeling lethargic',\n",
              " 'feeling valued supported great',\n",
              " 'read like feel tad',\n",
              " 'ive feeling awhile looked surprised look said',\n",
              " 'feel sentimental average know im super lucky super white girl exact middle life',\n",
              " 'kids strength wife feel burdened',\n",
              " 'carry feeling things rich',\n",
              " 'help feel amazed',\n",
              " 'finally found afternoon wear feeling like vicious',\n",
              " 'feel jolly time england like england looking pretty doors old talking british cards',\n",
              " 'im feeling appreciative experience life brought today',\n",
              " 'looked horrified caught sight horse',\n",
              " 'said community anger running h',\n",
              " 'feeling creative week love stories photos week',\n",
              " 'ive discovered feel agitated unnecessary huge',\n",
              " 'feeling bit groggy today',\n",
              " 'feel wonderful said company im',\n",
              " 'like listen whilst painting makes feel artistic actually look',\n",
              " 'feeling greedy know',\n",
              " 'feel generous spirit nature accepting gifts universe',\n",
              " 'needed sun time long time im feeling excited life',\n",
              " 'feel way makes angry',\n",
              " 'sleep couch floor feeling shaken',\n",
              " 'feel ugly right im happy',\n",
              " 'im feeling bit spiteful bitch times',\n",
              " 'feeling perfect',\n",
              " 'know personally feel like staying bed sleeping hours day working life maybe eventually taking hot yoga lame passion',\n",
              " 'feel bit naughty like ive parents room christmas presents',\n",
              " 'feel pretty virtuous actually',\n",
              " 'feel like damaged goods',\n",
              " 'feeling discontent finally bed night',\n",
              " 'feel clever background draw audience target audience',\n",
              " 'posted reached someones facebook think best friends makes feel shocked frustrated',\n",
              " 'feeling confused life want know life',\n",
              " 'want hold kiss feel loved safe',\n",
              " 'ate wanted good eating feeling delicious effect state ice cream gave going',\n",
              " 'im feeling annoyed time recipe previously unworthy',\n",
              " 'feel dirty',\n",
              " 'pull favorite books feel miserable',\n",
              " 'havent felt like real good feeling welcomed open arms',\n",
              " \"h drugs 're\",\n",
              " 'feel like sweet',\n",
              " 'things according feelings disturbed dogs charmed guitar horror movies lame movies lame songs good lyrics music',\n",
              " 'feel fucked regardless',\n",
              " 'right weve year ive learned wont book honestly im feeling fabulous today dealing giant cold',\n",
              " 'feeling slightly lethargic overwhelmed new',\n",
              " 'feel whiney moment',\n",
              " 'im feeling indecisive want rest life',\n",
              " 'feeling im valued potential welcome',\n",
              " '',\n",
              " 'mean know causes feel fucked head',\n",
              " 'feel like sweet fix',\n",
              " 'lay raw let attack feeling emotional feel silly want honest',\n",
              " 'feel rarely worthwhile cause stick rule posting online wouldnt prepared face',\n",
              " 'want people feeling delighted shock saw',\n",
              " 'feel bothered',\n",
              " 'feel language pretty open improve',\n",
              " 'find feeling happy feels good',\n",
              " 'feel hated wanted ignored',\n",
              " 'feel little ashamed american history knowledge like learn',\n",
              " 'im going know activities balance start feeling burdened supposed fun',\n",
              " 'came home feeling pleased ready sunny british weather',\n",
              " 'feel troubled work anymore getting movement day',\n",
              " 'bright little faces memory kids life feel worthwhile feel glad decided program difficult days worth',\n",
              " 'feel like got greedy took shot throw right ball wanted throw got picked',\n",
              " 'feel useful giving',\n",
              " 'constantly feel lied wronged love people death',\n",
              " 'feel worthless confused mentally drained',\n",
              " 'feel devastated',\n",
              " 'feel cold',\n",
              " 'lost dear friend family wants feel mean',\n",
              " \"fact said 'm feeling particularly glum\",\n",
              " 'ive recently experiences left feeling inadequate',\n",
              " 'remember started feeling homesick',\n",
              " 'actually feel frightened seen mother went treatment',\n",
              " 'feeling productive',\n",
              " 'feel nostalgic young age',\n",
              " 'think feel content moment free worry',\n",
              " 'know tried new character universe feels lively began hoping true new characters',\n",
              " 'day feeling terrific',\n",
              " 'end feeling devastated social',\n",
              " 'feel peaceful dont think ive trying importance things usually bother like problems school focus trying happy content small things',\n",
              " 'im feeling easily believe sentimental',\n",
              " 'lost sick got blood pressure feel terrific',\n",
              " 'appreciate open universe feel receive gentle small present dreams',\n",
              " 'feel like sweet lips feel like magical world love',\n",
              " 'feel remorseful act fool',\n",
              " 'sorry feeling sad',\n",
              " 'feel awkward',\n",
              " 'feeling like generous kind ill album',\n",
              " 'im frightened feeling paranoid',\n",
              " 'didnt feel sympathetic way',\n",
              " 'wanted wanted break shed feel like lost',\n",
              " 'feel gentle hands tender care shoulders pulled embrace sun face',\n",
              " 'feeling little stressed seriously',\n",
              " 'told feeling anxious turning',\n",
              " 'heard news died',\n",
              " 'thankful feeling useful',\n",
              " 'regret feel positive books think thats books actually liked gave similar review',\n",
              " 'feel ideas',\n",
              " 'feel better actually reaching goal',\n",
              " 'feel bit helpless good terms step ready',\n",
              " 'writer feel highly respected fellow writers write people',\n",
              " 'came away injury free feeling amazing entire race',\n",
              " 'feel bit energized today grouchy',\n",
              " 'feel hesitant',\n",
              " 'start journey morning feel pleasant journey planning enjoy moments especially friend',\n",
              " 'want feel loved',\n",
              " 'wanted thank giving chance making feel welcomed loved',\n",
              " 'manage reach conclusion feel resolved',\n",
              " 'baby john feel funny',\n",
              " 'feel bad far didnt week cant carried like week doesnt appear',\n",
              " 'feel thoughts try homework help special',\n",
              " 'like feeling devastated',\n",
              " 'feel relaxed fine',\n",
              " 'feel neglectful lot comments',\n",
              " 'thought measure self control waited express',\n",
              " 'feel disgusted glimpse eyes feel maybe world',\n",
              " 'feel heart god wants eager learn',\n",
              " 'bank customers slow shift business',\n",
              " 'feeling little disheartened',\n",
              " 'true wonderful people home men women live happily contented',\n",
              " 'feeling little shaky called day small bike',\n",
              " 'suppose couple days feeling hot better cough visit went',\n",
              " 'im feeling cant bothered putting order goes',\n",
              " 'told think feelings damaged broken thought living years like feels overwhelming',\n",
              " 'looked bewildered eyes away turning',\n",
              " 'forgive accepted allowed express way feel superior',\n",
              " 'learned seriously feel humiliated',\n",
              " 'feel im doomed fail b setting think im doomed fail',\n",
              " 'feel rebellious today leave',\n",
              " 'im feeling angry kind sad tired bored today',\n",
              " 'know feeling strange sense minds pages',\n",
              " 'sit blank computer head times drink couple coffee feel triumphant write usually joke',\n",
              " 'feel drained expected workout experience',\n",
              " 'instead way sand watching',\n",
              " 'hope excitement feel learning today continues life smart silly sensitive creative young girl smart silly sensitive creative young woman',\n",
              " 'feeling hot thought id cool',\n",
              " 'feel reluctant join class trip',\n",
              " 'head',\n",
              " 'im feeling selfish right want time',\n",
              " 'feel product deserves positive review want leave somewhat final thought',\n",
              " 'took class college love selfish focus way feel youre beloved',\n",
              " 'feel horrible today',\n",
              " 'grateful feel funny',\n",
              " 'feel people answer considerate',\n",
              " 'love little boy feel inadequate parent',\n",
              " 'feel good thats plan',\n",
              " 'feel like fine sex fully aware happen action know different prevent pregnancy',\n",
              " 'think known feel cold weather friends ready winter finished finished',\n",
              " 'feel little needy',\n",
              " 'feel welcomed like son coming home',\n",
              " 'constantly feel worthwhile',\n",
              " 'feel troubled',\n",
              " 'im feeling little regretful pass thats happens regret',\n",
              " 'sleep soon head sleep deeply night wake feeling lot lethargic usual',\n",
              " 'feel lost fuck',\n",
              " 'cant help feel someones going end pissed',\n",
              " 'feel fucking stupid',\n",
              " 'ive felt centered pleased w things going w feeling complacent',\n",
              " 'going tell trip right im super feeling reading peoples gets little boring right',\n",
              " 'suggest begin time reflect relationships understand makes feel valued loved makes feel insecure unnecessary',\n",
              " 'mean wrote book gay sitting reading feeling furious',\n",
              " 'follow feelings repressed years months days',\n",
              " 'dont feel sociable bar anymore',\n",
              " 'feel',\n",
              " 'cant help feel distraught',\n",
              " 'feel like accepted open arms hearts minds thanks supportive community',\n",
              " 'learned hard way hours feel like months friendly people stop talk',\n",
              " 'want people think silly people want want feel unwelcome',\n",
              " 'feeling stressed days',\n",
              " 'feel feel like theres people actually listen',\n",
              " 'ive feeling mellow evening',\n",
              " 'feel like lives loving hearts',\n",
              " 'feeling vulnerable nervous worried anxious bit lost',\n",
              " 'trying focus feelings want emotional turns',\n",
              " 'feel clever average',\n",
              " 'feel submissive',\n",
              " 'confess im feeling uncertain god going work',\n",
              " \"'s face lit told 's excitement clothes sent\",\n",
              " 'feel honoured wear walking piece',\n",
              " 'feel like useless skin',\n",
              " '',\n",
              " 'wouldnt mind mark feeling generous',\n",
              " 'feeling im look like innocent lame group old dirty hope ways free dead',\n",
              " 'feel helps create rich touch outfit',\n",
              " 'dont know wrote following little note feel today u r offended following posting obviously lived long act believe',\n",
              " 'feel kind strange',\n",
              " 'ill try figure takes feel satisfied',\n",
              " 'feel like im enraged',\n",
              " 'feeling pretty rotten',\n",
              " 'im feeling little groggy lack sleep shall try',\n",
              " 'feel like god gracious prayers',\n",
              " 'sure thought feeling blessed days idea giving thought process rarely long remember',\n",
              " 'feel beloved letter beloved',\n",
              " 'little floor workout feel cranky',\n",
              " 'frightened sitting lady small',\n",
              " 'feel like ludicrous speed',\n",
              " 'feel lucky live',\n",
              " 'feeling playful morning',\n",
              " 'cant help feeling way',\n",
              " 'im feeling intimidated feel like actually',\n",
              " 'totally passed appeared feels like pretty perfect fit',\n",
              " 'feel like kinda bitchy alot people',\n",
              " 'know people usually feel devastated know fact didnt hurt lot',\n",
              " 'feeling especially ungrateful time post',\n",
              " 'sorry hear left feeling humiliated',\n",
              " 'feel things dont talk people come know plan doesnt taste sweet feel like plan',\n",
              " 'feel divine happening',\n",
              " 'mention marriage living feel wronged home high price scary ordinary family difficult high price house',\n",
              " 'feel strange bed little',\n",
              " 'busy feeling disgusted mood',\n",
              " 'thought feel passionate began teaching',\n",
              " 'start feeling nervous tomorrow im sure',\n",
              " 'feel like gracious readers blog',\n",
              " 'feel incredibly disappointed',\n",
              " 'fucked wont pull long turn look',\n",
              " 'im feeling violent im feeling creative',\n",
              " 'consider family broken feel discontent father',\n",
              " 'feel lucky know like freedom wide open sea',\n",
              " 'feeling highly frustrated worked long day wanted home shower eat listen music',\n",
              " 'feel freaking fantastic morning',\n",
              " 'feeling shitty today',\n",
              " 'im feeling exhausted today',\n",
              " 'im feeling punished loved previous books',\n",
              " 'began feel afraid rain continued',\n",
              " 'feel furious love thought better',\n",
              " 'tired feeling helpless wanted control situation',\n",
              " 'im feeling invigorated ready whats ahead excited share information',\n",
              " 'id feeling bit curious',\n",
              " 'feel uncomfortable fact moment',\n",
              " 'feel amused',\n",
              " 'feel lot isolated friends',\n",
              " 'wonder feel needy',\n",
              " 'im feeling little bit apprehensive new prove',\n",
              " 'feel like sweet looks',\n",
              " 'feel kind intelligent inspired',\n",
              " 'feel guilty sorry',\n",
              " 'feeling apprehensive life student felt like couldnt succeed wouldnt succeed succeed',\n",
              " 'feel hot cold drink find ice ice',\n",
              " 'refuse let feel bitter small',\n",
              " 'feel reader confused time period like time till',\n",
              " 'response',\n",
              " 'based think feel wondered strange things',\n",
              " 'exasperation voice said told want fight people want',\n",
              " 'feel like embarrassed let',\n",
              " 'want welcome home end feeling threatened baby',\n",
              " 'feel fucking rebellious like class starts theyre taking roll',\n",
              " 'feel amazing good pleased',\n",
              " 'feel glad im able time spend time family',\n",
              " 'think feel little ashamed ive blogging regularly year hasnt struggle',\n",
              " 'help feel amused reading article',\n",
              " 'surprised like good feels amazing skin',\n",
              " 'feel joyful',\n",
              " 'tells feel troubled',\n",
              " \"'re going miserable measure like\",\n",
              " 'feel remorseful known known',\n",
              " 'social dreaming things feel melancholy',\n",
              " 'feel deprived born experienced extreme couple hours unable hold special quiet experience',\n",
              " 'feel students need compassionate strong individuals embrace role sense adventure',\n",
              " 'feeling greedy depressed',\n",
              " 'feeling irate extremely uncomfortable',\n",
              " 'mournful face long',\n",
              " 'going feel annoyed',\n",
              " 'feel clever',\n",
              " 'im feeling need cute little green mommy',\n",
              " 'feel bad police officer',\n",
              " 'understand feeling uncertain link',\n",
              " 'feel assured bet know relate',\n",
              " 'feeling extremely contented decision home',\n",
              " 'feelings dumb',\n",
              " 'pain starting stopped feeling resigned',\n",
              " 'imagine ill eventually middle feels greedy',\n",
              " 'need finish feeling relieved feeling irritated',\n",
              " 'realise started blog specific purpose grown shouldnt feel pressured writing specific things',\n",
              " 'im feeling mellow id like point things dont understand',\n",
              " 'asked lead prayer meeting feel responsibility prepare plan',\n",
              " 'help feeling meant rude father words',\n",
              " 'end day feeling hopeful relaxed',\n",
              " 'received slightly message feel lot reassured im thinks emotionally',\n",
              " 'questions classes topic feel pretty teacher',\n",
              " 'barely stand sight dog wearing feel dog suffering',\n",
              " 'feeling violent fucking anticipation',\n",
              " 'im feeling guilty helpless hopeless',\n",
              " 'care number drama gained huge success began feel greedy successful',\n",
              " 'told makes feel unimportant cant effort straight',\n",
              " 'feel confused hard core nature',\n",
              " 'feel proud carried struggle today feel real human',\n",
              " 'passed university exam',\n",
              " 'usually font maybe feeling brave change non font style',\n",
              " 'ready mothers risk complete minutes useful health workers rise needs depressed mother',\n",
              " 'somewhat',\n",
              " 'didnt feel like moving things going fine',\n",
              " 'feel comfortable happy blood related',\n",
              " 'feeling hurt little',\n",
              " 'walked got live couldnt feel fingers cold',\n",
              " 'dont know feel emotionally assaulted fact',\n",
              " 'feel dazed',\n",
              " 'mad',\n",
              " 'feel divine future seconds',\n",
              " 'feel slightly emotional watching',\n",
              " 'basically spent miserable night crying feeling terrified sick stomach',\n",
              " 'feel frightened grounded centered',\n",
              " 'feel slowly caring living peoples standards comes present',\n",
              " \"beautiful delight 's face close receive arms\",\n",
              " 'feel low',\n",
              " 'afraid water young people feel afraid death experienced',\n",
              " 'going little let read sake relate want read feel safe okay send',\n",
              " 'yesterday glamorous told devastated husband romance hours went public news press',\n",
              " 'accept dont feel troubled',\n",
              " 'suppose natural half hour days spend time family making memories friends feels like elses life numb way',\n",
              " 'lie feel like trusting person trust guess',\n",
              " 'feel privileged powerful',\n",
              " 'decided liked guy want die got feeling soon company walked door guy liked going die horrible death',\n",
              " 'feel disgusted lose respect lady said',\n",
              " 'feel hesitant share know experienced personally offer hope amp life',\n",
              " 'feel paranoid want feel like',\n",
              " 'feel like edge comes beloved clothing',\n",
              " 'think nice people feel paranoid wrong',\n",
              " 'forgive accepted allowed feel uncertain moment looking physical',\n",
              " 'feeling creative trying new things',\n",
              " 'feeling deprived traveling weekend planned middle month free tuesday random',\n",
              " 'im feeling rebellious sake rebellious',\n",
              " 'feeling eager press',\n",
              " 'feel miss',\n",
              " 'years quit weeks ago right finished book cant believe free feel knew quit terrified life',\n",
              " 'head feeling brave',\n",
              " 'im feeling frantic ive sleep',\n",
              " 'focused heavy breathing sweat forgot feel socially awkward',\n",
              " 'feel relieved like finally knew thinking feeling',\n",
              " 'said words feel relieved hear title person afraid title consider true unworthy benefit personality',\n",
              " 'love comes feel getting excited christmas way early year friends including href http',\n",
              " 'left feeling triumphant taken challenge money',\n",
              " \"night found 'd considered happy\",\n",
              " 'think shoes walked snow feel warmth divine love spirit',\n",
              " 'feel complacent start thinking smart',\n",
              " \"n't care 're offended 's\",\n",
              " 'ive feeling unsuccessful lot ways',\n",
              " 'feeling troubled',\n",
              " 'feeling im going heartless',\n",
              " 'want challenge fun way games feeling pressured reach certain goals',\n",
              " 'ill add special sea sand feel loving',\n",
              " 'feel delicious heat rising release try',\n",
              " 'find crying proud feel loyal connection',\n",
              " 'feel ashamed guilty',\n",
              " 'connection physical horror moral',\n",
              " 'regularly feel embarrassed',\n",
              " 'im feeling annoyed',\n",
              " 'feel wonderful said',\n",
              " 'talk feel like valuable',\n",
              " 'fall love feelings dangerous',\n",
              " 'feel equally wronged',\n",
              " 'later im feeling pretty smug',\n",
              " 'feeling grumpy huge rock early',\n",
              " 'written prayer journal morning lord written feel tender care today',\n",
              " 'went feeling little hostile felt like didnt care',\n",
              " 'feel frightened million',\n",
              " 'tend avoid news feel like add value life makes fearful anxious slightly paranoid',\n",
              " 'actually feel horribly vain posting im kinda curious',\n",
              " 'wasnt feeling hot little lot self talk im better spot mentally physically',\n",
              " 'feel angry mad bitter',\n",
              " 'warm room north facing feel cold flat',\n",
              " 'feel welcomed confidence belong',\n",
              " 'feel satisfied finished exams',\n",
              " 'support level party',\n",
              " 'feel like im strange place life care cares',\n",
              " 'ended feeling proud final product',\n",
              " 'feel anxious coming event physical energy emotional events emotional energy look parent adult',\n",
              " 'hope enjoy reading feel free leave comments',\n",
              " 'happy impact especially feel takes shaky usual',\n",
              " 'know going feel disheartened unknown thing',\n",
              " 'feel nervous people',\n",
              " 'feel im supposed sympathetic im hard time feeling way im finding annoying im afraid showing',\n",
              " 'feel wronged',\n",
              " 'personally feel punished',\n",
              " 'im feeling bitchy today',\n",
              " 'world began rose feeling bewildered let amused',\n",
              " 'feel unprotected',\n",
              " 'feel worthwhile career wise',\n",
              " 'terrible furious anger filled making want',\n",
              " 'know times feeling low stressed need pretty',\n",
              " 'feel like im finally position decide joyful free chocolate bar',\n",
              " 'feeling impressed taking months finish lyrics fairly simple tortured emo song',\n",
              " 'im feel sort numb like calm',\n",
              " 'feel comfortable huge market waiting',\n",
              " 'months later brought army home said experienced left little piece',\n",
              " 'feel like day romantic love said oh office shopping store',\n",
              " 'feel agitated right',\n",
              " 'feeling welcomed art scene',\n",
              " 'im sure today feel horrible',\n",
              " 'knowing use feel threatened',\n",
              " 'feel physically beaten difficult think right',\n",
              " 'feel gloomy excited',\n",
              " 'opened window whilst listening certain christmas classic radio im feeling pretty festive morning',\n",
              " 'feel like know troubled excuse',\n",
              " 'think feel idiotic tried',\n",
              " 'london club died hours later hospital devastated mum',\n",
              " 'amazing run morning im feeling determined past days',\n",
              " 'feel sorry father',\n",
              " 'lovely feeling bit restless missing london life',\n",
              " 'appreciate feel free come visit soon',\n",
              " 'feeling agitated lately',\n",
              " 'feel respected feel like worth',\n",
              " 'strongly feel point life longer walk path truthful going life',\n",
              " 'feel like stubborn year old',\n",
              " 'im people try hard focus subjects feel passionate want spend time right',\n",
              " 'open eyes shes gone cant help feel',\n",
              " 'feel like casual',\n",
              " 'feel think determined href http',\n",
              " 'u feel unhappy',\n",
              " 'understand feel rude house face',\n",
              " 'feel emotional knowing women knew holding journey',\n",
              " 'feel getting life time vital',\n",
              " 'games makes feel excited',\n",
              " 'feel like losing confidence feel calm',\n",
              " 'took tonight feeling pleasantly mellow',\n",
              " 'mean feel duty help loyal readers understand world going',\n",
              " 'allowed people tonight feel far superior felt popular able community',\n",
              " \"'m\",\n",
              " 'feel vulnerable tell im honest hate',\n",
              " 'feeling bit miserable passionate moment',\n",
              " 'tired feeling sorry',\n",
              " 'feel deeply honoured',\n",
              " 'feel amazing doctor',\n",
              " 'feel needs come lets table hopefully resolved',\n",
              " 'face brush tools brush lightly cheeks im feeling brave maybe little nose',\n",
              " 'lot moments feel optimistic',\n",
              " 'im feeling sorry think poor people lost lives',\n",
              " 'response feel said things convince gentle love ride nice easy',\n",
              " 'feel soon popular',\n",
              " 'didnt feel embarrassed',\n",
              " 'feel like dirty streets',\n",
              " 'im feeling generous words',\n",
              " 'im feeling romantic thought id easy minute presents fashion ideas day',\n",
              " 'im feeling festive tonight',\n",
              " 'thought hold key strangely elated st',\n",
              " 'went exam feel heart unsure answer decision random guess',\n",
              " 'hair feel tender share close eyes clearly heart good',\n",
              " 'feel like im fond word',\n",
              " 'feel disturbed',\n",
              " 'felt desolate angry',\n",
              " 'feel like lot people intimidated lashes like unnecessary process makeup routine',\n",
              " 'mean true style like society feel ugly inadequate based looks suddenly completely',\n",
              " 'particularly irate husband words times heat moment',\n",
              " 'know specific similar experience help feel appalled',\n",
              " 'feel like missed precious summer',\n",
              " 'feel friendly hate',\n",
              " 'voice alarm',\n",
              " 'im trying good old space feeling rest assured change point',\n",
              " 'feel proud',\n",
              " 'start feeling dumb',\n",
              " 'dont god turn doesnt mean dont feel offended',\n",
              " 'search search search rarely feel satisfied found',\n",
              " 'im lacking feeling actually start putting things place little surprised find',\n",
              " 'feel like missed school brain craving knowledge form',\n",
              " 'feel pretty blank right thats good',\n",
              " 'hate feel threatened totally',\n",
              " 'feel game strange reality violent adding place know',\n",
              " 'didnt feel like taking bitchy attitude',\n",
              " 'think bit better today feel like run cough stubborn particularly try speak',\n",
              " 'know u feel hated people stop thinking try help try anxiety healthy helpful way',\n",
              " 'quote quote feel meant away hated day job efforts matters',\n",
              " 'help feel insulted master need waking',\n",
              " 'years second semester results came ecstatic',\n",
              " 'feeling invigorated',\n",
              " 'feel cheated supporting family stuff hours day',\n",
              " 'felt feeling told ok things ultimately good',\n",
              " 'important truth dismay recent political risk',\n",
              " 'cant wait feel innocent spirit',\n",
              " 'guess feeling pretty shitty like feelings ive starting',\n",
              " 'feel vital needs',\n",
              " 'feel like talented artist inside',\n",
              " 'feel glad facebook related pages providing news views score update website like',\n",
              " 'feel whiney today week surgery major surgery',\n",
              " 'feel im doomed finding man',\n",
              " 'feel hear gentle doesnt bother',\n",
              " 'noticed frustration feel petty created drama',\n",
              " 'feel like im im trying impatient wait',\n",
              " 'figure practice anybody feeling like ideas valued team',\n",
              " 'looked exasperation wide deep blue e',\n",
              " 'longer feel like pathetic sad fat girl cant eat day',\n",
              " 'like feel productive getting reading im things like driving',\n",
              " 'im able way world writing feel weird way thinking generally short years',\n",
              " 'feel like wonderful summer know school started year fly',\n",
              " 'feel inhibited',\n",
              " 'sit christmas feeling like thrilled found',\n",
              " 'feeling energetic strong',\n",
              " 'feel like friendly people feel lonely',\n",
              " 'known letting things im feeling good',\n",
              " 'feel calm comfortable wearing color',\n",
              " 'kind feel like supporting',\n",
              " 'looked smiling smile place lay deep',\n",
              " 'feel didnt supporting gay',\n",
              " 'want feel ugly',\n",
              " 'feel difference loving love',\n",
              " 'im makes woman feel terrific great trip lift bit',\n",
              " 'feel little shy situations nervous making',\n",
              " 'id honest blog didnt report im feeling petty right',\n",
              " 'cant tell moments shock im feeling im jaded actually missed note use',\n",
              " 'im feeling joyful fit',\n",
              " 'feel pretty confident saying',\n",
              " 'seen change appearance feel energetic sure mental',\n",
              " 'feel disheartened trust people try want know think boring',\n",
              " 'feel valuable service',\n",
              " 'feel stunned people got big way',\n",
              " 'theyre sad crying feel like heartless bitch hey im pretty excited flying time know spend year country',\n",
              " 'able look face feeling awkward',\n",
              " 'feel like rest season continue successful like',\n",
              " 'feeling genuinely shocked surprised hit',\n",
              " 'ive feeling groggy day',\n",
              " 'pulled passionate kiss feeling long member waiting ass cheeks frantic',\n",
              " 'feeling little relaxed certainly feeling refreshed thanks drunk decided letting half hour night super fun fact impossible sleep cold complaining certainly',\n",
              " 'left feeling discouraged hopeless',\n",
              " 'feel frustrated cause think know whats best',\n",
              " 'feel sorry rest second life understand support time world continue slow death',\n",
              " 'feel anymore',\n",
              " 'feel bouncy easily run hours',\n",
              " 'im lying bed writing feeling smug fact ive got days cos ive got lots lovely plans',\n",
              " 'feel bothered specific issue feels like couple wall',\n",
              " 'starting feel time lost time yesterday today got giant',\n",
              " 'feel bit lonely writing face face cant',\n",
              " 'feel coming im determined',\n",
              " 'bought fat free feeling impressed hold large leaves friend total sugar fat',\n",
              " 'ive feeling super run morning leave usual closed business type illness post',\n",
              " 'random awkward honestly feeling strange feels like',\n",
              " 'hate going work today feel reassured im good job',\n",
              " 'actually feeling somewhat listless unmotivated earlier afternoon cup coffee strength coffee im',\n",
              " 'feel far precious feelings',\n",
              " 'feel like actually productive today',\n",
              " 'naturally nervous face beauty times pleased',\n",
              " 'feel hated helping prevent gay',\n",
              " 'feel extremely proud live country help decide want country run',\n",
              " 'feeling kind resentful april',\n",
              " 'guess opened known longer cant help feeling little ignored',\n",
              " 'feel unhappy',\n",
              " 'feel drained feel energized',\n",
              " 'feel embarrassed circle horse friends supported',\n",
              " 'listened case left feeling frustrated confused',\n",
              " 'feeling strange present movement trying way',\n",
              " 'spent days crying newborn running kids dealing naughty getting little sleep generally feeling crappy',\n",
              " 'feeling super inspired new projects',\n",
              " 'feel liked talked mass effect death posts going afraid',\n",
              " 'try find feel foolish',\n",
              " 'compare john lot people try points feel like soon think oh hes like fill blank suddenly hes',\n",
              " 'feel like bitchy time think trying shake',\n",
              " 'know im making big deal feel shocked drive',\n",
              " 'recall seeing leaves falling tree set grey sky feeling absolutely terrified',\n",
              " 'feel brave going try ice dog',\n",
              " 'feel like im working half voice wonderful night',\n",
              " 'feel burdened goals',\n",
              " 'mean section coffee numb mental right shouldnt able feel dissatisfied',\n",
              " 'guess good news feel calm think needed chest',\n",
              " 'feel relationship divine',\n",
              " 'know feeling sincere small trouble stand character performance sex life husband wife',\n",
              " 'feel fine pretty running hours minutes straight',\n",
              " 'feel like pathetic piece shit planet',\n",
              " 'feel acceptable group leaders',\n",
              " 'feeling little irritated close friends yes feel like arent reasons bad mood',\n",
              " 'feel broke plane ill aware use faith wish gone',\n",
              " 'feeling bit crappy bad weeks ago',\n",
              " 'new members tell comfortable feel accepted members great hear',\n",
              " 'im totally walking sunshine feeling lighter burdened weight people bus people stand sit im reminded work',\n",
              " 'im feeling overwhelmed',\n",
              " 'breathing feeling lively',\n",
              " 'feel pretty shitty fault people appreciate help feeling deserve',\n",
              " 'look feel cold chill',\n",
              " 'feel ecstatic longer belong school',\n",
              " 'feel adventurous willing img src http',\n",
              " 'personally feel talented america',\n",
              " 'feel sad summer dead href http',\n",
              " 'sent home feeling bit shaky',\n",
              " 'feel curious bewildered',\n",
              " 'left feel foolish lost unhappy',\n",
              " 'feel like tree shaken comfortable ground',\n",
              " 'woman sitting table feeling playful come based moment sit',\n",
              " 'feel girl foolish annoyed boys',\n",
              " 'ive years admit feeling bit naughty free',\n",
              " 'feel cold wind',\n",
              " 'feel suddenly smaller oh tired',\n",
              " 'feel worthwhile away matter badly ended',\n",
              " 'anguish',\n",
              " 'feel gentle let',\n",
              " 'suppose bit occasion ive horrible annoying person feel strange',\n",
              " 'found feeling nostalgic thought abandoned little',\n",
              " 'feel unloved know im hated',\n",
              " 'feel sense embarrassed clothes prepared charity throw',\n",
              " 'couple cant wait married feel pleased eventually married',\n",
              " 'changed office room',\n",
              " 'feel honored chosen stand journey watching grow incredible doctor',\n",
              " 'wound feel pleasant lightly',\n",
              " 'mentioned company phone decided right fit position feel rejected',\n",
              " 'im feeling regretful writing felt exact things loved read letters',\n",
              " 'ecstatic like',\n",
              " 'told felt better feeling lousy',\n",
              " 'feel virtuous fears',\n",
              " 'feel like dream selfish',\n",
              " 'feel petty',\n",
              " 'wont anymore wont allow stressed feeling rushed like race better',\n",
              " 'feeling bit naughty article magazine know people love read',\n",
              " 'feel like pathetic selfish lazy want find new job old annoying describe',\n",
              " 'feel outgoing',\n",
              " 'feel drained totally exhausted today',\n",
              " 'feel bit works trusting able use parts patient strong',\n",
              " 'starting feeling little lethargic',\n",
              " 'gotta feeling little slutty',\n",
              " 'great run hold particular',\n",
              " 'feeling sentimental expressed blessed mother best friend',\n",
              " 'cleaning thinking remembered felt time realized kids mess probably wouldnt cleaning mess feeling little bit annoyed',\n",
              " 'feel particularly talented',\n",
              " 'woke yesterday morning wondering hurt feelings horrible feeling stomach horrible chest pains',\n",
              " 'im big city im afraid going days lost days feeling uncomfortable days knowing dress days knowing days knowing eat days',\n",
              " 'stop learning feeling inhibited performance',\n",
              " 'continued feel submissive continued',\n",
              " 'feel awful',\n",
              " 'feel virtuous ive week months',\n",
              " 'feel strong shift recently',\n",
              " 'task hate kitchen minutes makes feel like wont tortured long',\n",
              " 'havent like lately seriously feeling depressed',\n",
              " 'feel gentle amusement',\n",
              " 'feel like wimpy fool right',\n",
              " 'im feeling lethargic shows keeping amused',\n",
              " 'hard time caring family main characters early seasons close marriage stories feel worthwhile lied identify',\n",
              " 'feel blood start hands start suddenly hot',\n",
              " 'tired feeling buy buy buy holidays special',\n",
              " 'feel like im single supporting industry moment',\n",
              " 'want guests know appreciate coming visit feel welcomed loved',\n",
              " 'feel splendid',\n",
              " 'tend feel like runs hot usually lot recipes suggest times',\n",
              " 'believe happy healthy relationships likely feel energized inspired overall health appearance',\n",
              " 'feel helpless lacking right moment want look david',\n",
              " 'feel connection divine self',\n",
              " 'recall feeling welcomed returned months later white thanksgiving',\n",
              " 'feel like year teach passionate job find love kids want try harder',\n",
              " 'feel like fake',\n",
              " 'feel resentful care getting want',\n",
              " 'feel hateful yes hear days',\n",
              " 'didnt sleep night feel energetic morning',\n",
              " 'feel violent urge room',\n",
              " 'wonder feel like joy longer joyful based research',\n",
              " 'feel dull pain reason',\n",
              " 'feel havent truly update cute little post today',\n",
              " 'mother feel like pretty rotten',\n",
              " 'feel feel sorry think ability',\n",
              " 'im sure im feeling delicate',\n",
              " 'knew feeling ignored',\n",
              " 'feeling mad',\n",
              " 'want feel happy',\n",
              " 'feeling impatient restless excited',\n",
              " 'feel like treasured',\n",
              " 'feeling generous',\n",
              " 'feel like lost main feel secure emotionally financially socially',\n",
              " 'im year old boy feeling hopeless',\n",
              " 'feel called focus little ones naughty',\n",
              " 'want talk talk talk feel like thats way going resolved im afraid im going let',\n",
              " 'feel horrible want throw',\n",
              " 'want feel pressured',\n",
              " 'feel like welcomed freedom life past years',\n",
              " 'thinking going dinner im feeling like bothered',\n",
              " 'restless feel lethargic',\n",
              " 'feel grounded delighted good mood filled positive energy',\n",
              " 'im packing leave school feeling sentimental',\n",
              " 'feel mellow calm',\n",
              " 'working late bad nights excited dr rushed',\n",
              " \"n't work truly\",\n",
              " 'feel bad im posting blog late',\n",
              " 'feel gracious man',\n",
              " 'seen faces happy faces',\n",
              " 'find times feel respected getting point feel uncomfortable nice things happening',\n",
              " 'ive feeling shitty lately',\n",
              " 'come home usually feel drained exhausted',\n",
              " 'monday indignant president described',\n",
              " 'feelings thought socially acceptable',\n",
              " 'feel making effort blamed active',\n",
              " 'stopped feeling little awkward',\n",
              " 'feel greedy saying',\n",
              " 'wonder feel smart',\n",
              " 'question feel ok support plan',\n",
              " 'spent game feeling unsure needed feeling completely lost',\n",
              " 'feel like suffering christ jesus',\n",
              " 'feel food enjoyed abused',\n",
              " 'tell girl book feel like guys smart clever youve probably sort idea ideas book',\n",
              " 'hope quote able let special knows im feeling insecure understand matter trust',\n",
              " 'count didnt feel frantic group followed bird moved north trees',\n",
              " 'feel losing friends help time pass pleasant ways',\n",
              " 'feel like delicious',\n",
              " 'feel dissatisfied healing',\n",
              " 'desolate',\n",
              " 'feel terrified found started saying terrified loud feel terrified',\n",
              " 'im feeling gloomy weekend',\n",
              " 'know let people decide happiness damn feels like risk happiness people hate school school fucking pathetic deserve time money',\n",
              " 'feel cool',\n",
              " 'feel ashamed bags look like natural living room',\n",
              " 'im feeling exactly thrilled standing know mean',\n",
              " 'feel glad stress went making sky spending months writing non stopped facing initial home rejected friends vain',\n",
              " 'feel lucky birthday',\n",
              " 'feel like feel thankful',\n",
              " 'feel annoyed girl',\n",
              " 'ive feeling sentimental past days',\n",
              " \"ignored expression crossed 's face\",\n",
              " 'feeling splendid needed day decided baby',\n",
              " 'feeling wednesday night thrilled training ha',\n",
              " 'strong weak knowing surely improve person id like know feel worthwhile',\n",
              " 'feel weird tonight',\n",
              " 'feeling bit gloomy weekend maybe grey days weve',\n",
              " 'talked yesterday feels resolved far gets resolved session',\n",
              " 'feel like write got distracted home wednesday evening challenge lost train thought',\n",
              " 'throw things feel terrified agitated',\n",
              " 'feel loyal',\n",
              " \"n't downcast said\",\n",
              " 'feeling',\n",
              " 'feel lame today',\n",
              " 'hope help feel afraid supported loved',\n",
              " 'got home feeling hot tired great',\n",
              " 'surgery friday night feel awful lots people said good new days feel shitty hurt shitty hurt',\n",
              " 'feel like crap ungrateful',\n",
              " 'feel completely honored young talented fully alive beautiful girl woman',\n",
              " 'happier feel accepted life',\n",
              " 'feel content right mean amazing happened stupid im sure shit know feel ok',\n",
              " 'im feeling joyful today',\n",
              " 'slightly warm feeling coming strange sense like feeling right thoughts night stand left morning',\n",
              " 'feel impatient christian church christ fact gotten',\n",
              " 'feel wimpy saying',\n",
              " 'think level understanding feel hes hesitant',\n",
              " 'feel cold href http',\n",
              " 'feel time mind got time time know divine yes know divine began',\n",
              " 'feel kind heartless',\n",
              " 'suddenly feel sweet love song girls sing',\n",
              " 'sick times runs come feeling dissatisfied life forward motion',\n",
              " 'feel extremely passionate topic person',\n",
              " 'feel superior thing',\n",
              " 'feel oh heart broke',\n",
              " 'feel honored friend',\n",
              " 'didnt like feeling hated chest growing sound lips boy',\n",
              " 'feel strange',\n",
              " 'im sick constantly betrayed feeling stomach feeling matter says care friend dont compassion whats hurt understanding',\n",
              " 'feel helpless',\n",
              " 'world mental private suffering professional appears local strange public bewilderment responsible',\n",
              " 'feeling need longing flowers warmth sun',\n",
              " 'feeling smell going pleasant',\n",
              " 'actually china time feel people friendly',\n",
              " 'feel disgusted need act cute like actions',\n",
              " 'feeling going little sweet',\n",
              " 'feel like thats ok political party uk reach young',\n",
              " 'feel curious add',\n",
              " 'got man loved',\n",
              " 'feel curious current music realized songs weird unique vibe gets lost non songs',\n",
              " 'feel pissed fact talented creative',\n",
              " 'feeling blessed happy',\n",
              " 'utterly desolate faithful companion',\n",
              " 'im feeling pretty pleased',\n",
              " 'want change feel like im discouraged im living',\n",
              " 'car feeling generous car needs',\n",
              " 'im going feels today ive got admit theyre pretty unpleasant',\n",
              " 'love connection hearing returned face getting gentle chill spring breeze feeling like im productive',\n",
              " 'feeling troubled dad said',\n",
              " 'feel complacent experiences program find big room',\n",
              " 'feel like longer book liked',\n",
              " 'overwhelming feeling truly blessed',\n",
              " 'love reasons care people feel im sweet person think id good helping',\n",
              " 'feel like positive ball inspiration',\n",
              " 'social thought going hard felt',\n",
              " 'skills knowledge feel lot confident work',\n",
              " 'set ahead class feeling ugly jealous',\n",
              " 'feel appreciative',\n",
              " 'feel guy think sincere honest intelligent',\n",
              " 'honestly sure feel stunned',\n",
              " 'feel insulted dumb think',\n",
              " 'sense years mood despondency companies individuals experience effects style',\n",
              " 'feel increasingly fond',\n",
              " 'feel like people think im selfish makes sense',\n",
              " 'im feeling excited',\n",
              " 'enjoy aspects life hard times feel completely overwhelmed',\n",
              " 'feel disgusted man power talks problem area says house similar problems',\n",
              " 'spend day bed im feeling adventurous couch leg hurts worse aching heart',\n",
              " 'feel virtuous ive rejected material goods course',\n",
              " 'feel successful showing world war',\n",
              " 'feel getting emotional eating sick cold plain old stomach',\n",
              " 'feel numb',\n",
              " 'feel vital day live potential',\n",
              " 'love place series real heroes love way books fall love feels violent crazy place home',\n",
              " 'im stressed angry upset point im feeling numb bad thing sure set edge',\n",
              " 'feel appreciative',\n",
              " 'dont know guys certainly feel fabulous',\n",
              " 'quiet person feel important',\n",
              " 'come understand feelings positive negative',\n",
              " 'feel happy',\n",
              " 'im feeling anxious im trying project exact opposite',\n",
              " 'feel pleasantly mellow regardless',\n",
              " 'think years spent feeling furious perspective world extremely sensitive nature',\n",
              " 'hand started aching fabric feel delicious',\n",
              " 'looked happy said somewhat despondent lack progress finding',\n",
              " 'sure makes waiting feel way left feeling like pulling thrilled works',\n",
              " 'feel like ball things curious life adventure want good',\n",
              " 'feel like successful helpless feeling super',\n",
              " 'feel came home early school',\n",
              " 'feeling uncertain',\n",
              " 'believe girls feel like popular crowd want fit',\n",
              " 'ive feeling jealous lately bloggers going author book',\n",
              " 'love service easy use set amp feel like service im supporting small company know love',\n",
              " 'tend come away feeling insulted books',\n",
              " 'struggling emotionally feeling beaten',\n",
              " \"'s voice\",\n",
              " 'feel check wonder got loving',\n",
              " 'dont care sound right truth feel heart im convinced cant stuff',\n",
              " 'feel distracted people think',\n",
              " 'feel like look sweet face remember im supposed love',\n",
              " 'feel pretty terrified letting good people kind support work',\n",
              " 'pleasure meeting feel like know popular report',\n",
              " 'woke morning feeling hopeful energetic',\n",
              " 'feel rotten need tell passing ill laughing years',\n",
              " 'feel inadequate needs feel',\n",
              " 'angry class',\n",
              " 'feel furious pathetic furious reasons',\n",
              " 'feel pains loneliness discontent',\n",
              " 'feel little sad christmas hardly',\n",
              " 'dont know wrong past days feel homesick havent left',\n",
              " 'feel totally invigorated completely forget like cold',\n",
              " 'lot paint feel embarrassed',\n",
              " 'actually found song making feel weird play guitar sing church like time music huge life college high school',\n",
              " 'feel dismayed terms weird pink left didnt know',\n",
              " 'im feeling graceful today',\n",
              " 'feel respected matters',\n",
              " 'enjoyed feeling sense valuable',\n",
              " 'lot thankful year feel like year im extremely thankful amazingly supportive family',\n",
              " 'feel frustrated anymore media attack know right track',\n",
              " 'feel like need shower mellow day',\n",
              " 'need mention difference feeling vulnerable bit fear wrong',\n",
              " 'feel depressed know happy',\n",
              " 'feel spiteful',\n",
              " \"n't simply ignore fact death important let know n't\",\n",
              " 'read peoples posts moments feel id left left precious perfectly',\n",
              " 'im feeling days makes feel little bit better',\n",
              " 'master feel submissive',\n",
              " 'complete car broke looking win season grand',\n",
              " 'feel matters hand resolved tears self pity',\n",
              " 'taken year find feel acceptable',\n",
              " 'feel like ungrateful ass href http',\n",
              " 'tried treatment depressed patients given period weeks days advantage',\n",
              " 'hurt went found worthwhile cast mind times feel ashamed',\n",
              " 'guess im feeling excited',\n",
              " 'didnt feel cheated deprived',\n",
              " 'feeling mad didnt reply got worried',\n",
              " 'feel person pissed person didnt understand trying personal attack asking whats giving shit face blah blah',\n",
              " 'feeling entirely truthful things reason lie',\n",
              " 'feel like failure like fucked managed',\n",
              " 'need hours true hours supposed people consider lot feel grumpy unhappy seriously unmotivated',\n",
              " 'ran hand hair bewilderment hi',\n",
              " 'frightened n',\n",
              " 'im sorry way feel problems resolved',\n",
              " 'feel like boring sewing makes easy fabric',\n",
              " 'face turn red feel shy',\n",
              " 'im feeling bit frustrated tonight',\n",
              " 'feel like pay broke heart',\n",
              " 'taking great world course sorrow',\n",
              " 'feel like sociable anymore',\n",
              " 'feel accepted condition',\n",
              " 'feel like youve hated born wish born',\n",
              " 'guess ive feeling agitated lately',\n",
              " \"asked manager attend conference park dismay team 's\",\n",
              " 'feel place career consistently character fact supposed funny',\n",
              " 'think love feel pretty insulted',\n",
              " 'im theyre feeling frankly boring game',\n",
              " 'pretty young felt',\n",
              " 'gotta feeling tonight gonna good night follow home break hug shower shower',\n",
              " 'feel impressed know',\n",
              " 'im feeling fine bit nauseous extremely tired expected',\n",
              " 'drop people problem certainly children asking leave early easy day im feeling weepy want hug',\n",
              " 'started answer feeling kinda horny',\n",
              " 'love main goal look new clothes stand feeling uncomfortable',\n",
              " 'feel irritated missed master passed admit body feels like needs rest',\n",
              " 'feel rejected unwanted',\n",
              " 'feel like weird cancer time',\n",
              " 'interest effort meet men chance feel burdened negative thoughts idiot thing',\n",
              " 'help think feeling loss talented horse joy new baby way mixture extreme emotions',\n",
              " 'feel threatened world',\n",
              " 'feeling tender spot foot certain way wearing shoes day',\n",
              " 'feel heartbroken silly way course',\n",
              " 'feel mom graceful warm loving smile time heal',\n",
              " 'feeling terrified anxious excited apprehensive million things',\n",
              " 'went bed late night feel sort groggy morning',\n",
              " 'feel like',\n",
              " 'wanted feelings matter instead thoughts rejected thought feelings matter',\n",
              " 'feel valuable lives',\n",
              " 'guess feeling little smug got led train outside started walking bus',\n",
              " 'cant help feel helpless overwhelmed mistakes ive',\n",
              " 'feel intimidated background general',\n",
              " 'feel fucked',\n",
              " 'feel like im doomed forever girl love',\n",
              " 'feeling ignored lied half truth left things game want',\n",
              " 'feeling vulnerable close relationships draw love god seat',\n",
              " 'online friend talking talking feel ignored feel unloved',\n",
              " ...]"
            ]
          },
          "execution_count": 102,
          "metadata": {},
          "output_type": "execute_result"
        }
      ],
      "source": [
        "text_sequences"
      ]
    },
    {
      "cell_type": "code",
      "execution_count": null,
      "id": "rYWvNHcAca9C",
      "metadata": {
        "id": "rYWvNHcAca9C"
      },
      "outputs": [],
      "source": [
        "data = np.array(list(zip(text_sequences, actual_classes)))\n",
        "\n",
        "# Convert the array to a DataFrame\n",
        "df = pd.DataFrame(data, columns=['column1', 'column2'])\n",
        "\n",
        "# column1 = text_sequences.reshape(-1, 1)\n",
        "# column2 = actual_classes.reshape(-1, 1)\n",
        "\n",
        "# data = np.concatenate([column1, column2], axis=1)\n",
        "# df = pd.DataFrame(data, columns=['Column1', 'Column2'])"
      ]
    },
    {
      "attachments": {},
      "cell_type": "markdown",
      "id": "F3pSqZBU93Nt",
      "metadata": {
        "id": "F3pSqZBU93Nt"
      },
      "source": [
        "# Evaluate the Model"
      ]
    },
    {
      "cell_type": "code",
      "execution_count": 47,
      "id": "8PpVTqCj9nzF",
      "metadata": {
        "colab": {
          "base_uri": "https://localhost:8080/"
        },
        "id": "8PpVTqCj9nzF",
        "outputId": "3d307717-65f6-4651-85cc-799d4d382211"
      },
      "outputs": [
        {
          "name": "stdout",
          "output_type": "stream",
          "text": [
            "68/68 [==============================] - 0s 796us/step - loss: 0.3581 - accuracy: 0.8644\n",
            "Test set\n",
            "  Loss: 0.358\n",
            "  Accuracy: 0.864\n"
          ]
        }
      ],
      "source": [
        "accr = model.evaluate(X_test,Y_test)\n",
        "print('Test set\\n  Loss: {:0.3f}\\n  Accuracy: {:0.3f}'.format(accr[0],accr[1]))"
      ]
    },
    {
      "cell_type": "markdown",
      "id": "Sw9lTY0iwgeL",
      "metadata": {
        "id": "Sw9lTY0iwgeL"
      },
      "source": [
        "# Adjusting the Model"
      ]
    },
    {
      "cell_type": "code",
      "execution_count": 61,
      "id": "8bxD_1svwcZq",
      "metadata": {
        "colab": {
          "base_uri": "https://localhost:8080/"
        },
        "id": "8bxD_1svwcZq",
        "outputId": "47ff610e-c562-4fa5-e309-eb583e2b391a"
      },
      "outputs": [],
      "source": [
        "EMBEDDING_DIM = 200\n",
        "model = Sequential()\n",
        "model.add(Embedding(MAX_WORDS, EMBEDDING_DIM, input_length=X_train.shape[1]))\n",
        "model.add(SpatialDropout1D(0.2))\n",
        "model.add(Bidirectional(LSTM(128, dropout=0.2, recurrent_dropout=0.2)))\n",
        "model.add(Dense(6, activation='softmax'))\n",
        "model.compile(loss='categorical_crossentropy', optimizer='adam',metrics=['accuracy'])"
      ]
    },
    {
      "attachments": {},
      "cell_type": "markdown",
      "id": "0aa37fd8",
      "metadata": {},
      "source": [
        "## Model Visualization"
      ]
    },
    {
      "cell_type": "code",
      "execution_count": 62,
      "id": "a4188f34",
      "metadata": {},
      "outputs": [
        {
          "data": {
            "image/png": "[encoded data removed]",
            "text/plain": [
              "<IPython.core.display.Image object>"
            ]
          },
          "execution_count": 62,
          "metadata": {},
          "output_type": "execute_result"
        }
      ],
      "source": [
        "plot_model(model, show_shapes=True)"
      ]
    },
    {
      "attachments": {},
      "cell_type": "markdown",
      "id": "3439d7f1",
      "metadata": {},
      "source": [
        "## Train the adjusted Model"
      ]
    },
    {
      "cell_type": "code",
      "execution_count": 56,
      "id": "4370d03c",
      "metadata": {},
      "outputs": [
        {
          "name": "stdout",
          "output_type": "stream",
          "text": [
            "Epoch 1/10\n",
            "68/68 [==============================] - 157s 2s/step - loss: 0.0936 - accuracy: 0.9657 - val_loss: 0.3283 - val_accuracy: 0.8866\n",
            "Epoch 2/10\n",
            "68/68 [==============================] - 155s 2s/step - loss: 0.0846 - accuracy: 0.9677 - val_loss: 0.3243 - val_accuracy: 0.8960\n",
            "Epoch 3/10\n",
            "68/68 [==============================] - 153s 2s/step - loss: 0.0742 - accuracy: 0.9727 - val_loss: 0.3415 - val_accuracy: 0.8954\n",
            "Epoch 4/10\n",
            "68/68 [==============================] - 151s 2s/step - loss: 0.0723 - accuracy: 0.9740 - val_loss: 0.3680 - val_accuracy: 0.8934\n",
            "Epoch 5/10\n",
            "68/68 [==============================] - 151s 2s/step - loss: 0.0654 - accuracy: 0.9757 - val_loss: 0.3715 - val_accuracy: 0.8980\n",
            "Epoch 6/10\n",
            "68/68 [==============================] - 152s 2s/step - loss: 0.0599 - accuracy: 0.9788 - val_loss: 0.3765 - val_accuracy: 0.8980\n"
          ]
        }
      ],
      "source": [
        "epochs = 10\n",
        "batch_size = 256\n",
        "callback = EarlyStopping(\n",
        "    monitor=\"val_loss\",\n",
        "    patience=4,\n",
        "    restore_best_weights=True,\n",
        ")\n",
        "history = model.fit(X_train, Y_train, epochs=epochs, batch_size=batch_size,validation_split=0.1, callbacks=[callback])"
      ]
    },
    {
      "attachments": {},
      "cell_type": "markdown",
      "id": "b51e5698",
      "metadata": {},
      "source": [
        "# Evaluate the adjusted Model"
      ]
    },
    {
      "cell_type": "code",
      "execution_count": 57,
      "id": "CtE-4gp0j4N7",
      "metadata": {
        "colab": {
          "base_uri": "https://localhost:8080/"
        },
        "id": "CtE-4gp0j4N7",
        "outputId": "7d204948-1ce3-4173-d788-b8dce991bbef"
      },
      "outputs": [
        {
          "name": "stdout",
          "output_type": "stream",
          "text": [
            "68/68 [==============================] - 8s 118ms/step - loss: 0.3047 - accuracy: 0.8998\n",
            "Test set\n",
            "  Loss: 0.305\n",
            "  Accuracy: 0.900\n"
          ]
        }
      ],
      "source": [
        "accr = model.evaluate(X_test,Y_test)\n",
        "print('Test set\\n  Loss: {:0.3f}\\n  Accuracy: {:0.3f}'.format(accr[0],accr[1]))"
      ]
    }
  ],
  "metadata": {
    "colab": {
      "provenance": []
    },
    "kernelspec": {
      "display_name": "Python 3",
      "language": "python",
      "name": "python3"
    },
    "language_info": {
      "codemirror_mode": {
        "name": "ipython",
        "version": 3
      },
      "file_extension": ".py",
      "mimetype": "text/x-python",
      "name": "python",
      "nbconvert_exporter": "python",
      "pygments_lexer": "ipython3",
      "version": "3.11.3"
    },
    "papermill": {
      "default_parameters": {},
      "duration": 69.156055,
      "end_time": "2022-05-01T09:54:13.134111",
      "environment_variables": {},
      "exception": null,
      "input_path": "__notebook__.ipynb",
      "output_path": "__notebook__.ipynb",
      "parameters": {},
      "start_time": "2022-05-01T09:53:03.978056",
      "version": "2.3.4"
    }
  },
  "nbformat": 4,
  "nbformat_minor": 5
}
